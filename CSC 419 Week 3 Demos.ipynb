{
 "cells": [
  {
   "cell_type": "code",
   "execution_count": 1,
   "metadata": {},
   "outputs": [],
   "source": [
    "# Linear regression example - predict temperature of water based on salinity\n",
    "# Source: https://machinelearningknowledge.ai/linear-regression-in-python-sklearn-with-example/\n",
    "\n",
    "import numpy as np \n",
    "import pandas as pd \n",
    "import seaborn as sns \n",
    "import matplotlib.pyplot as plt\n",
    "from sklearn import preprocessing #, svm \n",
    "from sklearn.model_selection import train_test_split \n",
    "from sklearn.linear_model import LinearRegression "
   ]
  },
  {
   "cell_type": "code",
   "execution_count": 13,
   "metadata": {},
   "outputs": [],
   "source": [
    "# This database contains oceanographic data measured from seawater samples collected at CalCOFI stations. Oceanographic data (i.e. the physical features of seawater) includes parameters such as temperature, salinity, dissolved oxygen, chlorophyll-a, nutrients, and many more\n",
    "# https://calcofi.org/data/oceanographic-data/bottle-database/\n",
    "\n",
    "df = pd.read_csv('bottle.csv', index_col=None, header=0, encoding='latin-1', low_memory=False) "
   ]
  },
  {
   "cell_type": "code",
   "execution_count": 3,
   "metadata": {},
   "outputs": [
    {
     "data": {
      "text/html": [
       "<div>\n",
       "<style scoped>\n",
       "    .dataframe tbody tr th:only-of-type {\n",
       "        vertical-align: middle;\n",
       "    }\n",
       "\n",
       "    .dataframe tbody tr th {\n",
       "        vertical-align: top;\n",
       "    }\n",
       "\n",
       "    .dataframe thead th {\n",
       "        text-align: right;\n",
       "    }\n",
       "</style>\n",
       "<table border=\"1\" class=\"dataframe\">\n",
       "  <thead>\n",
       "    <tr style=\"text-align: right;\">\n",
       "      <th></th>\n",
       "      <th>Cst_Cnt</th>\n",
       "      <th>Btl_Cnt</th>\n",
       "      <th>Sta_ID</th>\n",
       "      <th>Depth_ID</th>\n",
       "      <th>Depthm</th>\n",
       "      <th>T_degC</th>\n",
       "      <th>Salnty</th>\n",
       "      <th>O2ml_L</th>\n",
       "      <th>STheta</th>\n",
       "      <th>O2Sat</th>\n",
       "      <th>...</th>\n",
       "      <th>R_DYNHT</th>\n",
       "      <th>R_Nuts</th>\n",
       "      <th>R_Oxy_µmol/Kg</th>\n",
       "      <th>DIC1</th>\n",
       "      <th>DIC2</th>\n",
       "      <th>TA1</th>\n",
       "      <th>TA2</th>\n",
       "      <th>pH1</th>\n",
       "      <th>pH2</th>\n",
       "      <th>DIC Quality Comment</th>\n",
       "    </tr>\n",
       "  </thead>\n",
       "  <tbody>\n",
       "    <tr>\n",
       "      <td>0</td>\n",
       "      <td>1</td>\n",
       "      <td>1</td>\n",
       "      <td>054.0 056.0</td>\n",
       "      <td>19-4903CR-HY-060-0930-05400560-0000A-3</td>\n",
       "      <td>0</td>\n",
       "      <td>10.50</td>\n",
       "      <td>33.440</td>\n",
       "      <td>NaN</td>\n",
       "      <td>25.649</td>\n",
       "      <td>NaN</td>\n",
       "      <td>...</td>\n",
       "      <td>0.00</td>\n",
       "      <td>NaN</td>\n",
       "      <td>NaN</td>\n",
       "      <td>NaN</td>\n",
       "      <td>NaN</td>\n",
       "      <td>NaN</td>\n",
       "      <td>NaN</td>\n",
       "      <td>NaN</td>\n",
       "      <td>NaN</td>\n",
       "      <td>NaN</td>\n",
       "    </tr>\n",
       "    <tr>\n",
       "      <td>1</td>\n",
       "      <td>1</td>\n",
       "      <td>2</td>\n",
       "      <td>054.0 056.0</td>\n",
       "      <td>19-4903CR-HY-060-0930-05400560-0008A-3</td>\n",
       "      <td>8</td>\n",
       "      <td>10.46</td>\n",
       "      <td>33.440</td>\n",
       "      <td>NaN</td>\n",
       "      <td>25.656</td>\n",
       "      <td>NaN</td>\n",
       "      <td>...</td>\n",
       "      <td>0.01</td>\n",
       "      <td>NaN</td>\n",
       "      <td>NaN</td>\n",
       "      <td>NaN</td>\n",
       "      <td>NaN</td>\n",
       "      <td>NaN</td>\n",
       "      <td>NaN</td>\n",
       "      <td>NaN</td>\n",
       "      <td>NaN</td>\n",
       "      <td>NaN</td>\n",
       "    </tr>\n",
       "    <tr>\n",
       "      <td>2</td>\n",
       "      <td>1</td>\n",
       "      <td>3</td>\n",
       "      <td>054.0 056.0</td>\n",
       "      <td>19-4903CR-HY-060-0930-05400560-0010A-7</td>\n",
       "      <td>10</td>\n",
       "      <td>10.46</td>\n",
       "      <td>33.437</td>\n",
       "      <td>NaN</td>\n",
       "      <td>25.654</td>\n",
       "      <td>NaN</td>\n",
       "      <td>...</td>\n",
       "      <td>0.02</td>\n",
       "      <td>NaN</td>\n",
       "      <td>NaN</td>\n",
       "      <td>NaN</td>\n",
       "      <td>NaN</td>\n",
       "      <td>NaN</td>\n",
       "      <td>NaN</td>\n",
       "      <td>NaN</td>\n",
       "      <td>NaN</td>\n",
       "      <td>NaN</td>\n",
       "    </tr>\n",
       "    <tr>\n",
       "      <td>3</td>\n",
       "      <td>1</td>\n",
       "      <td>4</td>\n",
       "      <td>054.0 056.0</td>\n",
       "      <td>19-4903CR-HY-060-0930-05400560-0019A-3</td>\n",
       "      <td>19</td>\n",
       "      <td>10.45</td>\n",
       "      <td>33.420</td>\n",
       "      <td>NaN</td>\n",
       "      <td>25.643</td>\n",
       "      <td>NaN</td>\n",
       "      <td>...</td>\n",
       "      <td>0.04</td>\n",
       "      <td>NaN</td>\n",
       "      <td>NaN</td>\n",
       "      <td>NaN</td>\n",
       "      <td>NaN</td>\n",
       "      <td>NaN</td>\n",
       "      <td>NaN</td>\n",
       "      <td>NaN</td>\n",
       "      <td>NaN</td>\n",
       "      <td>NaN</td>\n",
       "    </tr>\n",
       "    <tr>\n",
       "      <td>4</td>\n",
       "      <td>1</td>\n",
       "      <td>5</td>\n",
       "      <td>054.0 056.0</td>\n",
       "      <td>19-4903CR-HY-060-0930-05400560-0020A-7</td>\n",
       "      <td>20</td>\n",
       "      <td>10.45</td>\n",
       "      <td>33.421</td>\n",
       "      <td>NaN</td>\n",
       "      <td>25.643</td>\n",
       "      <td>NaN</td>\n",
       "      <td>...</td>\n",
       "      <td>0.04</td>\n",
       "      <td>NaN</td>\n",
       "      <td>NaN</td>\n",
       "      <td>NaN</td>\n",
       "      <td>NaN</td>\n",
       "      <td>NaN</td>\n",
       "      <td>NaN</td>\n",
       "      <td>NaN</td>\n",
       "      <td>NaN</td>\n",
       "      <td>NaN</td>\n",
       "    </tr>\n",
       "  </tbody>\n",
       "</table>\n",
       "<p>5 rows × 62 columns</p>\n",
       "</div>"
      ],
      "text/plain": [
       "   Cst_Cnt  Btl_Cnt       Sta_ID                                Depth_ID  \\\n",
       "0        1        1  054.0 056.0  19-4903CR-HY-060-0930-05400560-0000A-3   \n",
       "1        1        2  054.0 056.0  19-4903CR-HY-060-0930-05400560-0008A-3   \n",
       "2        1        3  054.0 056.0  19-4903CR-HY-060-0930-05400560-0010A-7   \n",
       "3        1        4  054.0 056.0  19-4903CR-HY-060-0930-05400560-0019A-3   \n",
       "4        1        5  054.0 056.0  19-4903CR-HY-060-0930-05400560-0020A-7   \n",
       "\n",
       "   Depthm  T_degC  Salnty  O2ml_L  STheta  O2Sat  ...  R_DYNHT  R_Nuts  \\\n",
       "0       0   10.50  33.440     NaN  25.649    NaN  ...     0.00     NaN   \n",
       "1       8   10.46  33.440     NaN  25.656    NaN  ...     0.01     NaN   \n",
       "2      10   10.46  33.437     NaN  25.654    NaN  ...     0.02     NaN   \n",
       "3      19   10.45  33.420     NaN  25.643    NaN  ...     0.04     NaN   \n",
       "4      20   10.45  33.421     NaN  25.643    NaN  ...     0.04     NaN   \n",
       "\n",
       "   R_Oxy_µmol/Kg  DIC1  DIC2  TA1  TA2  pH1  pH2  DIC Quality Comment  \n",
       "0            NaN   NaN   NaN  NaN  NaN  NaN  NaN                  NaN  \n",
       "1            NaN   NaN   NaN  NaN  NaN  NaN  NaN                  NaN  \n",
       "2            NaN   NaN   NaN  NaN  NaN  NaN  NaN                  NaN  \n",
       "3            NaN   NaN   NaN  NaN  NaN  NaN  NaN                  NaN  \n",
       "4            NaN   NaN   NaN  NaN  NaN  NaN  NaN                  NaN  \n",
       "\n",
       "[5 rows x 62 columns]"
      ]
     },
     "execution_count": 3,
     "metadata": {},
     "output_type": "execute_result"
    }
   ],
   "source": [
    "# Display first records of data frame\n",
    "df.head()"
   ]
  },
  {
   "cell_type": "code",
   "execution_count": 14,
   "metadata": {},
   "outputs": [
    {
     "data": {
      "text/html": [
       "<div>\n",
       "<style scoped>\n",
       "    .dataframe tbody tr th:only-of-type {\n",
       "        vertical-align: middle;\n",
       "    }\n",
       "\n",
       "    .dataframe tbody tr th {\n",
       "        vertical-align: top;\n",
       "    }\n",
       "\n",
       "    .dataframe thead th {\n",
       "        text-align: right;\n",
       "    }\n",
       "</style>\n",
       "<table border=\"1\" class=\"dataframe\">\n",
       "  <thead>\n",
       "    <tr style=\"text-align: right;\">\n",
       "      <th></th>\n",
       "      <th>Salnty</th>\n",
       "      <th>T_degC</th>\n",
       "    </tr>\n",
       "  </thead>\n",
       "  <tbody>\n",
       "    <tr>\n",
       "      <td>0</td>\n",
       "      <td>33.4400</td>\n",
       "      <td>10.500</td>\n",
       "    </tr>\n",
       "    <tr>\n",
       "      <td>1</td>\n",
       "      <td>33.4400</td>\n",
       "      <td>10.460</td>\n",
       "    </tr>\n",
       "    <tr>\n",
       "      <td>2</td>\n",
       "      <td>33.4370</td>\n",
       "      <td>10.460</td>\n",
       "    </tr>\n",
       "    <tr>\n",
       "      <td>3</td>\n",
       "      <td>33.4200</td>\n",
       "      <td>10.450</td>\n",
       "    </tr>\n",
       "    <tr>\n",
       "      <td>4</td>\n",
       "      <td>33.4210</td>\n",
       "      <td>10.450</td>\n",
       "    </tr>\n",
       "    <tr>\n",
       "      <td>...</td>\n",
       "      <td>...</td>\n",
       "      <td>...</td>\n",
       "    </tr>\n",
       "    <tr>\n",
       "      <td>889495</td>\n",
       "      <td>33.4849</td>\n",
       "      <td>15.599</td>\n",
       "    </tr>\n",
       "    <tr>\n",
       "      <td>889496</td>\n",
       "      <td>33.4857</td>\n",
       "      <td>15.570</td>\n",
       "    </tr>\n",
       "    <tr>\n",
       "      <td>889497</td>\n",
       "      <td>33.4824</td>\n",
       "      <td>15.434</td>\n",
       "    </tr>\n",
       "    <tr>\n",
       "      <td>889498</td>\n",
       "      <td>33.4725</td>\n",
       "      <td>15.347</td>\n",
       "    </tr>\n",
       "    <tr>\n",
       "      <td>889499</td>\n",
       "      <td>33.4763</td>\n",
       "      <td>15.372</td>\n",
       "    </tr>\n",
       "  </tbody>\n",
       "</table>\n",
       "<p>889500 rows × 2 columns</p>\n",
       "</div>"
      ],
      "text/plain": [
       "         Salnty  T_degC\n",
       "0       33.4400  10.500\n",
       "1       33.4400  10.460\n",
       "2       33.4370  10.460\n",
       "3       33.4200  10.450\n",
       "4       33.4210  10.450\n",
       "...         ...     ...\n",
       "889495  33.4849  15.599\n",
       "889496  33.4857  15.570\n",
       "889497  33.4824  15.434\n",
       "889498  33.4725  15.347\n",
       "889499  33.4763  15.372\n",
       "\n",
       "[889500 rows x 2 columns]"
      ]
     },
     "execution_count": 14,
     "metadata": {},
     "output_type": "execute_result"
    }
   ],
   "source": [
    "# Work with first 500 rows - NOTE that this affects our accuracy...\n",
    "\n",
    "#df = df[:][:500]\n",
    "\n",
    "# Remove columns other than salinity and temperature\n",
    "df = df[['Salnty', 'T_degC']]\n",
    "\n",
    "df"
   ]
  },
  {
   "cell_type": "code",
   "execution_count": 15,
   "metadata": {},
   "outputs": [
    {
     "data": {
      "text/plain": [
       "<matplotlib.axes._subplots.AxesSubplot at 0x1f30018dd48>"
      ]
     },
     "execution_count": 15,
     "metadata": {},
     "output_type": "execute_result"
    },
    {
     "data": {
      "image/png": "[encoded data removed]",
      "text/plain": [
       "<Figure size 432x288 with 1 Axes>"
      ]
     },
     "metadata": {
      "needs_background": "light"
     },
     "output_type": "display_data"
    }
   ],
   "source": [
    "# Create scatterplot of salinity and temperature using seaborn\n",
    "\n",
    "sns.scatterplot(x =\"Salnty\", y =\"T_degC\", data = df) "
   ]
  },
  {
   "cell_type": "code",
   "execution_count": 16,
   "metadata": {},
   "outputs": [],
   "source": [
    "# fill null values by propagating previous value forward\n",
    "df.fillna(method ='ffill', inplace = True)"
   ]
  },
  {
   "cell_type": "code",
   "execution_count": 17,
   "metadata": {},
   "outputs": [],
   "source": [
    "# reshape arrays \n",
    "\n",
    "X = np.array(df['Salnty']).reshape(-1, 1) \n",
    "y = np.array(df['T_degC']).reshape(-1, 1)"
   ]
  },
  {
   "cell_type": "code",
   "execution_count": 18,
   "metadata": {},
   "outputs": [],
   "source": [
    "# test/train split\n",
    "X_train, X_test, y_train, y_test = train_test_split(X, y, test_size = 0.25)"
   ]
  },
  {
   "cell_type": "code",
   "execution_count": 19,
   "metadata": {},
   "outputs": [
    {
     "data": {
      "text/plain": [
       "LinearRegression(copy_X=True, fit_intercept=True, n_jobs=None, normalize=False)"
      ]
     },
     "execution_count": 19,
     "metadata": {},
     "output_type": "execute_result"
    }
   ],
   "source": [
    "# train linear regression model\n",
    "\n",
    "regr = LinearRegression() \n",
    "regr.fit(X_train, y_train)"
   ]
  },
  {
   "cell_type": "code",
   "execution_count": 20,
   "metadata": {},
   "outputs": [
    {
     "name": "stdout",
     "output_type": "stream",
     "text": [
      "The training score of model is:  0.209564020695443\n"
     ]
    }
   ],
   "source": [
    "# Evaluate training score\n",
    "# This is R2 (squared), so 0 = no prediction, 1 = perfect prediction\n",
    "\n",
    "train_score = regr.score(X_train, y_train)\n",
    "print(\"The training score of model is: \", train_score)"
   ]
  },
  {
   "cell_type": "code",
   "execution_count": 21,
   "metadata": {},
   "outputs": [
    {
     "name": "stdout",
     "output_type": "stream",
     "text": [
      "The score of the model on test data is: 0.21086029251477512\n"
     ]
    }
   ],
   "source": [
    "# Evaluate test score\n",
    "test_score = regr.score(X_test, y_test)\n",
    "print(\"The score of the model on test data is:\", test_score )"
   ]
  },
  {
   "cell_type": "code",
   "execution_count": 22,
   "metadata": {},
   "outputs": [
    {
     "data": {
      "image/png": "[encoded data removed]",
      "text/plain": [
       "<Figure size 432x288 with 1 Axes>"
      ]
     },
     "metadata": {
      "needs_background": "light"
     },
     "output_type": "display_data"
    }
   ],
   "source": [
    "# Visualize result\n",
    "y_pred = regr.predict(X_test) \n",
    "plt.scatter(X_test, y_test, color ='b') \n",
    "plt.plot(X_test, y_pred, color ='k') \n",
    "  \n",
    "plt.show() "
   ]
  },
  {
   "cell_type": "code",
   "execution_count": 23,
   "metadata": {},
   "outputs": [],
   "source": [
    "# KNN in sklearn example - predict if a child will play outside based on weather and temperature\n",
    "# https://www.datacamp.com/tutorial/k-nearest-neighbor-classification-scikit-learn\n",
    "\n",
    "# Create a dataset manually. Weather may be sunny, overcast, or rainy; temp may be hot, mild, or cool; play will be yes or no\n",
    "\n",
    "# Assigning features and label variables\n",
    "# First Feature\n",
    "weather=['Sunny','Sunny','Overcast','Rainy','Rainy','Rainy','Overcast','Sunny','Sunny',\n",
    "'Rainy','Sunny','Overcast','Overcast','Rainy']\n",
    "# Second Feature\n",
    "temp=['Hot','Hot','Hot','Mild','Cool','Cool','Cool','Mild','Cool','Mild','Mild','Mild','Hot','Mild']\n",
    "\n",
    "# Label or target varible\n",
    "play=['No','No','Yes','Yes','Yes','No','Yes','No','Yes','Yes','Yes','Yes','Yes','No']"
   ]
  },
  {
   "cell_type": "code",
   "execution_count": 24,
   "metadata": {},
   "outputs": [
    {
     "name": "stdout",
     "output_type": "stream",
     "text": [
      "[2 2 0 1 1 1 0 2 2 1 2 0 0 1]\n"
     ]
    }
   ],
   "source": [
    "# Use sklearn label encoder to convert each text value to a number\n",
    "\n",
    "# Import LabelEncoder\n",
    "from sklearn import preprocessing\n",
    "\n",
    "#creating labelEncoder\n",
    "le = preprocessing.LabelEncoder()\n",
    "\n",
    "# Converting string labels into numbers.\n",
    "# For weather, 0 = Overcast, 1 = Rainy, 2 = Sunny\n",
    "weather_encoded=le.fit_transform(weather)\n",
    "print(weather_encoded)"
   ]
  },
  {
   "cell_type": "code",
   "execution_count": 25,
   "metadata": {},
   "outputs": [
    {
     "name": "stdout",
     "output_type": "stream",
     "text": [
      "[1 1 1 2 0 0 0 2 0 2 2 2 1 2]\n",
      "[0 0 1 1 1 0 1 0 1 1 1 1 1 0]\n"
     ]
    }
   ],
   "source": [
    "# Converting string labels into numbers for temp and play (which becomes label, since it's our \"outcome\")\n",
    "# For temp, 0 = Cool, 1 = Hot, 2 = Mild\n",
    "temp_encoded=le.fit_transform(temp)\n",
    "print(temp_encoded)\n",
    "\n",
    "# For play, 0 = no, 1 = yes\n",
    "label=le.fit_transform(play)\n",
    "print(label)"
   ]
  },
  {
   "cell_type": "code",
   "execution_count": 26,
   "metadata": {},
   "outputs": [],
   "source": [
    "# Combine weather and temperature into single list of tuples\n",
    "\n",
    "features=list(zip(weather_encoded,temp_encoded))"
   ]
  },
  {
   "cell_type": "code",
   "execution_count": 27,
   "metadata": {},
   "outputs": [
    {
     "data": {
      "text/plain": [
       "[(2, 1),\n",
       " (2, 1),\n",
       " (0, 1),\n",
       " (1, 2),\n",
       " (1, 0),\n",
       " (1, 0),\n",
       " (0, 0),\n",
       " (2, 2),\n",
       " (2, 0),\n",
       " (1, 2),\n",
       " (2, 2),\n",
       " (0, 2),\n",
       " (0, 1),\n",
       " (1, 2)]"
      ]
     },
     "execution_count": 27,
     "metadata": {},
     "output_type": "execute_result"
    }
   ],
   "source": [
    "# Display combined features [weather, temp]\n",
    "features"
   ]
  },
  {
   "cell_type": "code",
   "execution_count": 28,
   "metadata": {},
   "outputs": [
    {
     "data": {
      "text/plain": [
       "KNeighborsClassifier(algorithm='auto', leaf_size=30, metric='minkowski',\n",
       "                     metric_params=None, n_jobs=None, n_neighbors=3, p=2,\n",
       "                     weights='uniform')"
      ]
     },
     "execution_count": 28,
     "metadata": {},
     "output_type": "execute_result"
    }
   ],
   "source": [
    "# Create KNN classifer and train model\n",
    "\n",
    "from sklearn.neighbors import KNeighborsClassifier\n",
    "\n",
    "model = KNeighborsClassifier(n_neighbors=3)\n",
    "\n",
    "# Train the model using the training sets\n",
    "model.fit(features,label)"
   ]
  },
  {
   "cell_type": "code",
   "execution_count": 31,
   "metadata": {},
   "outputs": [
    {
     "name": "stdout",
     "output_type": "stream",
     "text": [
      "[0]\n"
     ]
    }
   ],
   "source": [
    "#Predict Output for an overcast, mild day\n",
    "predicted= model.predict([[2,1]]) # 0:Overcast, 2:Mild\n",
    "print(predicted)\n",
    "\n",
    "# 1 is yes (play), 0 is no (don't play)"
   ]
  },
  {
   "cell_type": "code",
   "execution_count": 42,
   "metadata": {},
   "outputs": [],
   "source": [
    "# KNN with multiple classes/labels\n",
    "# Source: https://www.datacamp.com/tutorial/k-nearest-neighbor-classification-scikit-learn\n",
    "\n",
    "# import wine database - details at https://archive.ics.uci.edu/ml/datasets/wine\n",
    "\n",
    "#Import scikit-learn dataset library\n",
    "from sklearn import datasets\n",
    "\n",
    "#Load dataset\n",
    "wine = datasets.load_wine()"
   ]
  },
  {
   "cell_type": "code",
   "execution_count": 33,
   "metadata": {},
   "outputs": [
    {
     "name": "stdout",
     "output_type": "stream",
     "text": [
      "['alcohol', 'malic_acid', 'ash', 'alcalinity_of_ash', 'magnesium', 'total_phenols', 'flavanoids', 'nonflavanoid_phenols', 'proanthocyanins', 'color_intensity', 'hue', 'od280/od315_of_diluted_wines', 'proline']\n"
     ]
    }
   ],
   "source": [
    "# print the names of the features (characteristics of the different wines)\n",
    "print(wine.feature_names)"
   ]
  },
  {
   "cell_type": "code",
   "execution_count": 34,
   "metadata": {},
   "outputs": [
    {
     "name": "stdout",
     "output_type": "stream",
     "text": [
      "['class_0' 'class_1' 'class_2']\n"
     ]
    }
   ],
   "source": [
    "# print the label wine names(class_0, class_1, class_2)\n",
    "print(wine.target_names)"
   ]
  },
  {
   "cell_type": "code",
   "execution_count": 35,
   "metadata": {},
   "outputs": [
    {
     "name": "stdout",
     "output_type": "stream",
     "text": [
      "[[1.423e+01 1.710e+00 2.430e+00 1.560e+01 1.270e+02 2.800e+00 3.060e+00\n",
      "  2.800e-01 2.290e+00 5.640e+00 1.040e+00 3.920e+00 1.065e+03]\n",
      " [1.320e+01 1.780e+00 2.140e+00 1.120e+01 1.000e+02 2.650e+00 2.760e+00\n",
      "  2.600e-01 1.280e+00 4.380e+00 1.050e+00 3.400e+00 1.050e+03]\n",
      " [1.316e+01 2.360e+00 2.670e+00 1.860e+01 1.010e+02 2.800e+00 3.240e+00\n",
      "  3.000e-01 2.810e+00 5.680e+00 1.030e+00 3.170e+00 1.185e+03]\n",
      " [1.437e+01 1.950e+00 2.500e+00 1.680e+01 1.130e+02 3.850e+00 3.490e+00\n",
      "  2.400e-01 2.180e+00 7.800e+00 8.600e-01 3.450e+00 1.480e+03]\n",
      " [1.324e+01 2.590e+00 2.870e+00 2.100e+01 1.180e+02 2.800e+00 2.690e+00\n",
      "  3.900e-01 1.820e+00 4.320e+00 1.040e+00 2.930e+00 7.350e+02]]\n"
     ]
    }
   ],
   "source": [
    "# print the wine data (top 5 records)\n",
    "print(wine.data[0:5])"
   ]
  },
  {
   "cell_type": "code",
   "execution_count": 36,
   "metadata": {},
   "outputs": [
    {
     "name": "stdout",
     "output_type": "stream",
     "text": [
      "[0 0 0 0 0 0 0 0 0 0 0 0 0 0 0 0 0 0 0 0 0 0 0 0 0 0 0 0 0 0 0 0 0 0 0 0 0\n",
      " 0 0 0 0 0 0 0 0 0 0 0 0 0 0 0 0 0 0 0 0 0 0 1 1 1 1 1 1 1 1 1 1 1 1 1 1 1\n",
      " 1 1 1 1 1 1 1 1 1 1 1 1 1 1 1 1 1 1 1 1 1 1 1 1 1 1 1 1 1 1 1 1 1 1 1 1 1\n",
      " 1 1 1 1 1 1 1 1 1 1 1 1 1 1 1 1 1 1 1 2 2 2 2 2 2 2 2 2 2 2 2 2 2 2 2 2 2\n",
      " 2 2 2 2 2 2 2 2 2 2 2 2 2 2 2 2 2 2 2 2 2 2 2 2 2 2 2 2 2 2]\n"
     ]
    }
   ],
   "source": [
    "# print the wine target labels (0:Class_0, 1:Class_1, 2:Class_3)\n",
    "print(wine.target)"
   ]
  },
  {
   "cell_type": "code",
   "execution_count": 37,
   "metadata": {},
   "outputs": [
    {
     "name": "stdout",
     "output_type": "stream",
     "text": [
      "(178, 13)\n"
     ]
    }
   ],
   "source": [
    "# print data(feature)shape (rows, columns)\n",
    "print(wine.data.shape)"
   ]
  },
  {
   "cell_type": "code",
   "execution_count": 38,
   "metadata": {},
   "outputs": [
    {
     "name": "stdout",
     "output_type": "stream",
     "text": [
      "(178,)\n"
     ]
    }
   ],
   "source": [
    "# print target(or label)shape (only rows, since only one column)\n",
    "print(wine.target.shape)"
   ]
  },
  {
   "cell_type": "code",
   "execution_count": 43,
   "metadata": {},
   "outputs": [],
   "source": [
    "# Import train_test_split function\n",
    "from sklearn.model_selection import train_test_split\n",
    "\n",
    "# Split dataset into training set and test set\n",
    "# If you specify a particular random state here, you can reproduce test/train splits for comparison purposes\n",
    "X_train, X_test, y_train, y_test = train_test_split(wine.data, wine.target, test_size=0.3) # 70% training and 30% test"
   ]
  },
  {
   "cell_type": "code",
   "execution_count": 44,
   "metadata": {},
   "outputs": [],
   "source": [
    "# start with K = 9\n",
    "\n",
    "#Import knearest neighbors Classifier model\n",
    "from sklearn.neighbors import KNeighborsClassifier\n",
    "\n",
    "#Create KNN Classifier\n",
    "knn = KNeighborsClassifier(n_neighbors=5)\n",
    "\n",
    "#Train the model using the training sets\n",
    "knn.fit(X_train, y_train)\n",
    "\n",
    "#Predict the response for test dataset\n",
    "y_pred = knn.predict(X_test)"
   ]
  },
  {
   "cell_type": "code",
   "execution_count": 45,
   "metadata": {},
   "outputs": [
    {
     "name": "stdout",
     "output_type": "stream",
     "text": [
      "Accuracy: 0.7962962962962963\n"
     ]
    }
   ],
   "source": [
    "#Import scikit-learn metrics module for accuracy calculation\n",
    "from sklearn import metrics\n",
    "\n",
    "# Model Accuracy, how often is the classifier correct?\n",
    "print(\"Accuracy:\",metrics.accuracy_score(y_test, y_pred))"
   ]
  },
  {
   "cell_type": "code",
   "execution_count": 46,
   "metadata": {},
   "outputs": [],
   "source": [
    "# Decision Tree Classifier - predict Titanic survival\n",
    "\n",
    "# source: https://datagy.io/sklearn-decision-tree-classifier/\n",
    "\n",
    "# Downloading and exploring the Titanic dataset - will only use certain columns\n",
    "import pandas as pd\n",
    "\n",
    "titanic_data = pd.read_csv(\"titanic.csv\", usecols=['Survived', 'Pclass', 'Sex', 'Age'])\n",
    "\n",
    "# drop nulls\n",
    "titanic_data = titanic_data.dropna()\n",
    "\n",
    "# encode sex as 0 or 1\n",
    "\n",
    "titanic_data = titanic_data.replace(['female'],'0')\n",
    "titanic_data = titanic_data.replace(['male'],'1')"
   ]
  },
  {
   "cell_type": "code",
   "execution_count": 47,
   "metadata": {},
   "outputs": [],
   "source": [
    "# Encode survived as numeric categories\n",
    "\n",
    "titanic_data['Survived'] = titanic_data['Survived'].replace(to_replace=0, value='no')\n",
    "titanic_data['Survived'] = titanic_data['Survived'].replace(to_replace=1, value='yes')"
   ]
  },
  {
   "cell_type": "code",
   "execution_count": 48,
   "metadata": {},
   "outputs": [
    {
     "name": "stdout",
     "output_type": "stream",
     "text": [
      "  Survived  Pclass Sex   Age\n",
      "0       no       3   1  22.0\n",
      "1      yes       1   0  38.0\n",
      "2      yes       3   0  26.0\n",
      "3      yes       1   0  35.0\n",
      "4       no       3   1  35.0\n"
     ]
    }
   ],
   "source": [
    "# Visualize first couple of rows\n",
    "\n",
    "print(titanic_data.head())"
   ]
  },
  {
   "cell_type": "code",
   "execution_count": 49,
   "metadata": {},
   "outputs": [],
   "source": [
    "# Populate data in X array and label (survived) in y array\n",
    "\n",
    "X = titanic_data.copy()\n",
    "y = X.pop('Survived')"
   ]
  },
  {
   "cell_type": "code",
   "execution_count": 50,
   "metadata": {},
   "outputs": [],
   "source": [
    "# Splitting data into training and testing data\n",
    "from sklearn.model_selection import train_test_split\n",
    "\n",
    "# specifying random state would allow us to compare different attempts with a consistent test/train split\n",
    "# \"default\" split is 75% train/25% test\n",
    "X_train, X_test, y_train, y_test = train_test_split(X, y, random_state = 100)"
   ]
  },
  {
   "cell_type": "code",
   "execution_count": 51,
   "metadata": {},
   "outputs": [
    {
     "data": {
      "text/plain": [
       "DecisionTreeClassifier(class_weight=None, criterion='gini', max_depth=None,\n",
       "                       max_features=None, max_leaf_nodes=None,\n",
       "                       min_impurity_decrease=0.0, min_impurity_split=None,\n",
       "                       min_samples_leaf=1, min_samples_split=2,\n",
       "                       min_weight_fraction_leaf=0.0, presort=False,\n",
       "                       random_state=None, splitter='best')"
      ]
     },
     "execution_count": 51,
     "metadata": {},
     "output_type": "execute_result"
    }
   ],
   "source": [
    "# How to Import the DecisionTreeClassifer Class\n",
    "from sklearn.tree import DecisionTreeClassifier\n",
    "DecisionTreeClassifier(\n",
    "    criterion='gini', \n",
    "    splitter='best', \n",
    "    max_depth=None, \n",
    "    min_samples_split=2, \n",
    "    min_samples_leaf=1, \n",
    "    min_weight_fraction_leaf=0.0, \n",
    "    max_features=None, \n",
    "    random_state=None, \n",
    "    max_leaf_nodes=None, \n",
    "    min_impurity_decrease=0.0, \n",
    "    class_weight=None\n",
    ")"
   ]
  },
  {
   "cell_type": "code",
   "execution_count": 52,
   "metadata": {},
   "outputs": [
    {
     "data": {
      "text/plain": [
       "DecisionTreeClassifier(class_weight=None, criterion='gini', max_depth=None,\n",
       "                       max_features=None, max_leaf_nodes=None,\n",
       "                       min_impurity_decrease=0.0, min_impurity_split=None,\n",
       "                       min_samples_leaf=1, min_samples_split=2,\n",
       "                       min_weight_fraction_leaf=0.0, presort=False,\n",
       "                       random_state=None, splitter='best')"
      ]
     },
     "execution_count": 52,
     "metadata": {},
     "output_type": "execute_result"
    }
   ],
   "source": [
    "# Creating Our First Decision Tree Classifier\n",
    "\n",
    "from sklearn.tree import DecisionTreeClassifier\n",
    "clf = DecisionTreeClassifier()\n",
    "clf.fit(X_train, y_train)"
   ]
  },
  {
   "cell_type": "code",
   "execution_count": 53,
   "metadata": {},
   "outputs": [
    {
     "name": "stdout",
     "output_type": "stream",
     "text": [
      "['no' 'yes' 'no' 'no' 'no']\n"
     ]
    }
   ],
   "source": [
    "# Making Predictions with Our Model\n",
    "\n",
    "predictions = clf.predict(X_test)\n",
    "print(predictions[:5])"
   ]
  },
  {
   "cell_type": "code",
   "execution_count": 54,
   "metadata": {},
   "outputs": [
    {
     "name": "stdout",
     "output_type": "stream",
     "text": [
      "0.8468468468468469\n"
     ]
    }
   ],
   "source": [
    "# Measuring the accuracy of our model\n",
    "\n",
    "from sklearn.metrics import accuracy_score\n",
    "print(accuracy_score(y_test, predictions))"
   ]
  },
  {
   "cell_type": "code",
   "execution_count": 55,
   "metadata": {},
   "outputs": [
    {
     "name": "stdout",
     "output_type": "stream",
     "text": [
      "|--- feature_1 <= 0.50\n",
      "|   |--- feature_0 <= 2.50\n",
      "|   |   |--- feature_2 <= 3.00\n",
      "|   |   |   |--- feature_0 <= 1.50\n",
      "|   |   |   |   |--- class: no\n",
      "|   |   |   |--- feature_0 >  1.50\n",
      "|   |   |   |   |--- class: yes\n",
      "|   |   |--- feature_2 >  3.00\n",
      "|   |   |   |--- feature_2 <= 26.50\n",
      "|   |   |   |   |--- feature_2 <= 24.50\n",
      "|   |   |   |   |   |--- class: yes\n",
      "|   |   |   |   |--- feature_2 >  24.50\n",
      "|   |   |   |   |   |--- feature_2 <= 25.50\n",
      "|   |   |   |   |   |   |--- feature_0 <= 1.50\n",
      "|   |   |   |   |   |   |   |--- class: no\n",
      "|   |   |   |   |   |   |--- feature_0 >  1.50\n",
      "|   |   |   |   |   |   |   |--- class: yes\n",
      "|   |   |   |   |   |--- feature_2 >  25.50\n",
      "|   |   |   |   |   |   |--- feature_0 <= 1.50\n",
      "|   |   |   |   |   |   |   |--- class: yes\n",
      "|   |   |   |   |   |   |--- feature_0 >  1.50\n",
      "|   |   |   |   |   |   |   |--- class: no\n",
      "|   |   |   |--- feature_2 >  26.50\n",
      "|   |   |   |   |--- feature_0 <= 1.50\n",
      "|   |   |   |   |   |--- class: yes\n",
      "|   |   |   |   |--- feature_0 >  1.50\n",
      "|   |   |   |   |   |--- feature_2 <= 37.00\n",
      "|   |   |   |   |   |   |--- class: yes\n",
      "|   |   |   |   |   |--- feature_2 >  37.00\n",
      "|   |   |   |   |   |   |--- feature_2 <= 39.00\n",
      "|   |   |   |   |   |   |   |--- class: no\n",
      "|   |   |   |   |   |   |--- feature_2 >  39.00\n",
      "|   |   |   |   |   |   |   |--- class: yes\n",
      "|   |--- feature_0 >  2.50\n",
      "|   |   |--- feature_2 <= 36.50\n",
      "|   |   |   |--- feature_2 <= 32.50\n",
      "|   |   |   |   |--- feature_2 <= 12.00\n",
      "|   |   |   |   |   |--- feature_2 <= 5.50\n",
      "|   |   |   |   |   |   |--- feature_2 <= 3.50\n",
      "|   |   |   |   |   |   |   |--- feature_2 <= 1.50\n",
      "|   |   |   |   |   |   |   |   |--- class: yes\n",
      "|   |   |   |   |   |   |   |--- feature_2 >  1.50\n",
      "|   |   |   |   |   |   |   |   |--- feature_2 <= 2.50\n",
      "|   |   |   |   |   |   |   |   |   |--- class: no\n",
      "|   |   |   |   |   |   |   |   |--- feature_2 >  2.50\n",
      "|   |   |   |   |   |   |   |   |   |--- class: no\n",
      "|   |   |   |   |   |   |--- feature_2 >  3.50\n",
      "|   |   |   |   |   |   |   |--- class: yes\n",
      "|   |   |   |   |   |--- feature_2 >  5.50\n",
      "|   |   |   |   |   |   |--- class: no\n",
      "|   |   |   |   |--- feature_2 >  12.00\n",
      "|   |   |   |   |   |--- feature_2 <= 29.50\n",
      "|   |   |   |   |   |   |--- feature_2 <= 21.50\n",
      "|   |   |   |   |   |   |   |--- feature_2 <= 16.50\n",
      "|   |   |   |   |   |   |   |   |--- feature_2 <= 14.50\n",
      "|   |   |   |   |   |   |   |   |   |--- feature_2 <= 13.50\n",
      "|   |   |   |   |   |   |   |   |   |   |--- class: yes\n",
      "|   |   |   |   |   |   |   |   |   |--- feature_2 >  13.50\n",
      "|   |   |   |   |   |   |   |   |   |   |--- class: no\n",
      "|   |   |   |   |   |   |   |   |--- feature_2 >  14.50\n",
      "|   |   |   |   |   |   |   |   |   |--- feature_2 <= 15.50\n",
      "|   |   |   |   |   |   |   |   |   |   |--- class: yes\n",
      "|   |   |   |   |   |   |   |   |   |--- feature_2 >  15.50\n",
      "|   |   |   |   |   |   |   |   |   |   |--- class: yes\n",
      "|   |   |   |   |   |   |   |--- feature_2 >  16.50\n",
      "|   |   |   |   |   |   |   |   |--- feature_2 <= 19.50\n",
      "|   |   |   |   |   |   |   |   |   |--- feature_2 <= 18.50\n",
      "|   |   |   |   |   |   |   |   |   |   |--- feature_2 <= 17.50\n",
      "|   |   |   |   |   |   |   |   |   |   |   |--- class: no\n",
      "|   |   |   |   |   |   |   |   |   |   |--- feature_2 >  17.50\n",
      "|   |   |   |   |   |   |   |   |   |   |   |--- class: no\n",
      "|   |   |   |   |   |   |   |   |   |--- feature_2 >  18.50\n",
      "|   |   |   |   |   |   |   |   |   |   |--- class: yes\n",
      "|   |   |   |   |   |   |   |   |--- feature_2 >  19.50\n",
      "|   |   |   |   |   |   |   |   |   |--- feature_2 <= 20.50\n",
      "|   |   |   |   |   |   |   |   |   |   |--- class: no\n",
      "|   |   |   |   |   |   |   |   |   |--- feature_2 >  20.50\n",
      "|   |   |   |   |   |   |   |   |   |   |--- class: no\n",
      "|   |   |   |   |   |   |--- feature_2 >  21.50\n",
      "|   |   |   |   |   |   |   |--- feature_2 <= 27.50\n",
      "|   |   |   |   |   |   |   |   |--- feature_2 <= 26.50\n",
      "|   |   |   |   |   |   |   |   |   |--- feature_2 <= 24.50\n",
      "|   |   |   |   |   |   |   |   |   |   |--- feature_2 <= 23.50\n",
      "|   |   |   |   |   |   |   |   |   |   |   |--- truncated branch of depth 2\n",
      "|   |   |   |   |   |   |   |   |   |   |--- feature_2 >  23.50\n",
      "|   |   |   |   |   |   |   |   |   |   |   |--- class: yes\n",
      "|   |   |   |   |   |   |   |   |   |--- feature_2 >  24.50\n",
      "|   |   |   |   |   |   |   |   |   |   |--- feature_2 <= 25.50\n",
      "|   |   |   |   |   |   |   |   |   |   |   |--- class: no\n",
      "|   |   |   |   |   |   |   |   |   |   |--- feature_2 >  25.50\n",
      "|   |   |   |   |   |   |   |   |   |   |   |--- class: yes\n",
      "|   |   |   |   |   |   |   |   |--- feature_2 >  26.50\n",
      "|   |   |   |   |   |   |   |   |   |--- class: yes\n",
      "|   |   |   |   |   |   |   |--- feature_2 >  27.50\n",
      "|   |   |   |   |   |   |   |   |--- feature_2 <= 28.50\n",
      "|   |   |   |   |   |   |   |   |   |--- class: no\n",
      "|   |   |   |   |   |   |   |   |--- feature_2 >  28.50\n",
      "|   |   |   |   |   |   |   |   |   |--- class: no\n",
      "|   |   |   |   |   |--- feature_2 >  29.50\n",
      "|   |   |   |   |   |   |--- feature_2 <= 31.50\n",
      "|   |   |   |   |   |   |   |--- feature_2 <= 30.75\n",
      "|   |   |   |   |   |   |   |   |--- feature_2 <= 30.25\n",
      "|   |   |   |   |   |   |   |   |   |--- class: no\n",
      "|   |   |   |   |   |   |   |   |--- feature_2 >  30.25\n",
      "|   |   |   |   |   |   |   |   |   |--- class: no\n",
      "|   |   |   |   |   |   |   |--- feature_2 >  30.75\n",
      "|   |   |   |   |   |   |   |   |--- class: no\n",
      "|   |   |   |   |   |   |--- feature_2 >  31.50\n",
      "|   |   |   |   |   |   |   |--- class: no\n",
      "|   |   |   |--- feature_2 >  32.50\n",
      "|   |   |   |   |--- class: yes\n",
      "|   |   |--- feature_2 >  36.50\n",
      "|   |   |   |--- class: no\n",
      "|--- feature_1 >  0.50\n",
      "|   |--- feature_2 <= 13.00\n",
      "|   |   |--- feature_0 <= 2.50\n",
      "|   |   |   |--- class: yes\n",
      "|   |   |--- feature_0 >  2.50\n",
      "|   |   |   |--- feature_2 <= 0.71\n",
      "|   |   |   |   |--- class: yes\n",
      "|   |   |   |--- feature_2 >  0.71\n",
      "|   |   |   |   |--- feature_2 <= 2.50\n",
      "|   |   |   |   |   |--- feature_2 <= 1.50\n",
      "|   |   |   |   |   |   |--- class: no\n",
      "|   |   |   |   |   |--- feature_2 >  1.50\n",
      "|   |   |   |   |   |   |--- class: no\n",
      "|   |   |   |   |--- feature_2 >  2.50\n",
      "|   |   |   |   |   |--- feature_2 <= 3.50\n",
      "|   |   |   |   |   |   |--- class: yes\n",
      "|   |   |   |   |   |--- feature_2 >  3.50\n",
      "|   |   |   |   |   |   |--- feature_2 <= 11.50\n",
      "|   |   |   |   |   |   |   |--- feature_2 <= 10.00\n",
      "|   |   |   |   |   |   |   |   |--- feature_2 <= 6.50\n",
      "|   |   |   |   |   |   |   |   |   |--- feature_2 <= 5.00\n",
      "|   |   |   |   |   |   |   |   |   |   |--- class: no\n",
      "|   |   |   |   |   |   |   |   |   |--- feature_2 >  5.00\n",
      "|   |   |   |   |   |   |   |   |   |   |--- class: yes\n",
      "|   |   |   |   |   |   |   |   |--- feature_2 >  6.50\n",
      "|   |   |   |   |   |   |   |   |   |--- feature_2 <= 8.50\n",
      "|   |   |   |   |   |   |   |   |   |   |--- feature_2 <= 7.50\n",
      "|   |   |   |   |   |   |   |   |   |   |   |--- class: no\n",
      "|   |   |   |   |   |   |   |   |   |   |--- feature_2 >  7.50\n",
      "|   |   |   |   |   |   |   |   |   |   |   |--- class: no\n",
      "|   |   |   |   |   |   |   |   |   |--- feature_2 >  8.50\n",
      "|   |   |   |   |   |   |   |   |   |   |--- class: no\n",
      "|   |   |   |   |   |   |   |--- feature_2 >  10.00\n",
      "|   |   |   |   |   |   |   |   |--- class: no\n",
      "|   |   |   |   |   |   |--- feature_2 >  11.50\n",
      "|   |   |   |   |   |   |   |--- class: yes\n",
      "|   |--- feature_2 >  13.00\n",
      "|   |   |--- feature_0 <= 1.50\n",
      "|   |   |   |--- feature_2 <= 53.00\n",
      "|   |   |   |   |--- feature_2 <= 47.50\n",
      "|   |   |   |   |   |--- feature_2 <= 37.50\n",
      "|   |   |   |   |   |   |--- feature_2 <= 22.50\n",
      "|   |   |   |   |   |   |   |--- feature_2 <= 18.00\n",
      "|   |   |   |   |   |   |   |   |--- class: yes\n",
      "|   |   |   |   |   |   |   |--- feature_2 >  18.00\n",
      "|   |   |   |   |   |   |   |   |--- class: no\n",
      "|   |   |   |   |   |   |--- feature_2 >  22.50\n",
      "|   |   |   |   |   |   |   |--- feature_2 <= 27.50\n",
      "|   |   |   |   |   |   |   |   |--- class: yes\n",
      "|   |   |   |   |   |   |   |--- feature_2 >  27.50\n",
      "|   |   |   |   |   |   |   |   |--- feature_2 <= 30.50\n",
      "|   |   |   |   |   |   |   |   |   |--- feature_2 <= 29.50\n",
      "|   |   |   |   |   |   |   |   |   |   |--- feature_2 <= 28.50\n",
      "|   |   |   |   |   |   |   |   |   |   |   |--- class: no\n",
      "|   |   |   |   |   |   |   |   |   |   |--- feature_2 >  28.50\n",
      "|   |   |   |   |   |   |   |   |   |   |   |--- class: no\n",
      "|   |   |   |   |   |   |   |   |   |--- feature_2 >  29.50\n",
      "|   |   |   |   |   |   |   |   |   |   |--- class: no\n",
      "|   |   |   |   |   |   |   |   |--- feature_2 >  30.50\n",
      "|   |   |   |   |   |   |   |   |   |--- feature_2 <= 35.50\n",
      "|   |   |   |   |   |   |   |   |   |   |--- feature_2 <= 31.50\n",
      "|   |   |   |   |   |   |   |   |   |   |   |--- class: no\n",
      "|   |   |   |   |   |   |   |   |   |   |--- feature_2 >  31.50\n",
      "|   |   |   |   |   |   |   |   |   |   |   |--- class: yes\n",
      "|   |   |   |   |   |   |   |   |   |--- feature_2 >  35.50\n",
      "|   |   |   |   |   |   |   |   |   |   |--- feature_2 <= 36.50\n",
      "|   |   |   |   |   |   |   |   |   |   |   |--- class: yes\n",
      "|   |   |   |   |   |   |   |   |   |   |--- feature_2 >  36.50\n",
      "|   |   |   |   |   |   |   |   |   |   |   |--- class: no\n",
      "|   |   |   |   |   |--- feature_2 >  37.50\n",
      "|   |   |   |   |   |   |--- feature_2 <= 41.50\n",
      "|   |   |   |   |   |   |   |--- class: no\n",
      "|   |   |   |   |   |   |--- feature_2 >  41.50\n",
      "|   |   |   |   |   |   |   |--- feature_2 <= 42.50\n",
      "|   |   |   |   |   |   |   |   |--- class: yes\n",
      "|   |   |   |   |   |   |   |--- feature_2 >  42.50\n",
      "|   |   |   |   |   |   |   |   |--- feature_2 <= 44.50\n",
      "|   |   |   |   |   |   |   |   |   |--- class: no\n",
      "|   |   |   |   |   |   |   |   |--- feature_2 >  44.50\n",
      "|   |   |   |   |   |   |   |   |   |--- feature_2 <= 45.25\n",
      "|   |   |   |   |   |   |   |   |   |   |--- class: no\n",
      "|   |   |   |   |   |   |   |   |   |--- feature_2 >  45.25\n",
      "|   |   |   |   |   |   |   |   |   |   |--- feature_2 <= 45.75\n",
      "|   |   |   |   |   |   |   |   |   |   |   |--- class: no\n",
      "|   |   |   |   |   |   |   |   |   |   |--- feature_2 >  45.75\n",
      "|   |   |   |   |   |   |   |   |   |   |   |--- truncated branch of depth 2\n",
      "|   |   |   |   |--- feature_2 >  47.50\n",
      "|   |   |   |   |   |--- feature_2 <= 48.50\n",
      "|   |   |   |   |   |   |--- class: yes\n",
      "|   |   |   |   |   |--- feature_2 >  48.50\n",
      "|   |   |   |   |   |   |--- feature_2 <= 50.50\n",
      "|   |   |   |   |   |   |   |--- feature_2 <= 49.50\n",
      "|   |   |   |   |   |   |   |   |--- class: no\n",
      "|   |   |   |   |   |   |   |--- feature_2 >  49.50\n",
      "|   |   |   |   |   |   |   |   |--- class: no\n",
      "|   |   |   |   |   |   |--- feature_2 >  50.50\n",
      "|   |   |   |   |   |   |   |--- class: yes\n",
      "|   |   |   |--- feature_2 >  53.00\n",
      "|   |   |   |   |--- feature_2 <= 75.50\n",
      "|   |   |   |   |   |--- feature_2 <= 60.50\n",
      "|   |   |   |   |   |   |--- feature_2 <= 55.50\n",
      "|   |   |   |   |   |   |   |--- class: no\n",
      "|   |   |   |   |   |   |--- feature_2 >  55.50\n",
      "|   |   |   |   |   |   |   |--- feature_2 <= 56.50\n",
      "|   |   |   |   |   |   |   |   |--- class: no\n",
      "|   |   |   |   |   |   |   |--- feature_2 >  56.50\n",
      "|   |   |   |   |   |   |   |   |--- feature_2 <= 59.00\n",
      "|   |   |   |   |   |   |   |   |   |--- class: no\n",
      "|   |   |   |   |   |   |   |   |--- feature_2 >  59.00\n",
      "|   |   |   |   |   |   |   |   |   |--- class: no\n",
      "|   |   |   |   |   |--- feature_2 >  60.50\n",
      "|   |   |   |   |   |   |--- class: no\n",
      "|   |   |   |   |--- feature_2 >  75.50\n",
      "|   |   |   |   |   |--- class: yes\n",
      "|   |   |--- feature_0 >  1.50\n",
      "|   |   |   |--- feature_2 <= 28.75\n",
      "|   |   |   |   |--- feature_2 <= 20.50\n",
      "|   |   |   |   |   |--- feature_2 <= 17.50\n",
      "|   |   |   |   |   |   |--- feature_2 <= 16.50\n",
      "|   |   |   |   |   |   |   |--- feature_2 <= 15.50\n",
      "|   |   |   |   |   |   |   |   |--- class: no\n",
      "|   |   |   |   |   |   |   |--- feature_2 >  15.50\n",
      "|   |   |   |   |   |   |   |   |--- feature_0 <= 2.50\n",
      "|   |   |   |   |   |   |   |   |   |--- class: no\n",
      "|   |   |   |   |   |   |   |   |--- feature_0 >  2.50\n",
      "|   |   |   |   |   |   |   |   |   |--- class: no\n",
      "|   |   |   |   |   |   |--- feature_2 >  16.50\n",
      "|   |   |   |   |   |   |   |--- class: no\n",
      "|   |   |   |   |   |--- feature_2 >  17.50\n",
      "|   |   |   |   |   |   |--- feature_2 <= 18.50\n",
      "|   |   |   |   |   |   |   |--- feature_0 <= 2.50\n",
      "|   |   |   |   |   |   |   |   |--- class: no\n",
      "|   |   |   |   |   |   |   |--- feature_0 >  2.50\n",
      "|   |   |   |   |   |   |   |   |--- class: no\n",
      "|   |   |   |   |   |   |--- feature_2 >  18.50\n",
      "|   |   |   |   |   |   |   |--- feature_0 <= 2.50\n",
      "|   |   |   |   |   |   |   |   |--- class: no\n",
      "|   |   |   |   |   |   |   |--- feature_0 >  2.50\n",
      "|   |   |   |   |   |   |   |   |--- feature_2 <= 19.50\n",
      "|   |   |   |   |   |   |   |   |   |--- class: no\n",
      "|   |   |   |   |   |   |   |   |--- feature_2 >  19.50\n",
      "|   |   |   |   |   |   |   |   |   |--- class: no\n",
      "|   |   |   |   |--- feature_2 >  20.50\n",
      "|   |   |   |   |   |--- feature_2 <= 27.50\n",
      "|   |   |   |   |   |   |--- feature_2 <= 26.50\n",
      "|   |   |   |   |   |   |   |--- feature_2 <= 24.25\n",
      "|   |   |   |   |   |   |   |   |--- feature_2 <= 22.50\n",
      "|   |   |   |   |   |   |   |   |   |--- feature_0 <= 2.50\n",
      "|   |   |   |   |   |   |   |   |   |   |--- class: no\n",
      "|   |   |   |   |   |   |   |   |   |--- feature_0 >  2.50\n",
      "|   |   |   |   |   |   |   |   |   |   |--- feature_2 <= 21.50\n",
      "|   |   |   |   |   |   |   |   |   |   |   |--- class: no\n",
      "|   |   |   |   |   |   |   |   |   |   |--- feature_2 >  21.50\n",
      "|   |   |   |   |   |   |   |   |   |   |   |--- class: no\n",
      "|   |   |   |   |   |   |   |   |--- feature_2 >  22.50\n",
      "|   |   |   |   |   |   |   |   |   |--- feature_0 <= 2.50\n",
      "|   |   |   |   |   |   |   |   |   |   |--- feature_2 <= 23.50\n",
      "|   |   |   |   |   |   |   |   |   |   |   |--- class: no\n",
      "|   |   |   |   |   |   |   |   |   |   |--- feature_2 >  23.50\n",
      "|   |   |   |   |   |   |   |   |   |   |   |--- class: no\n",
      "|   |   |   |   |   |   |   |   |   |--- feature_0 >  2.50\n",
      "|   |   |   |   |   |   |   |   |   |   |--- feature_2 <= 23.75\n",
      "|   |   |   |   |   |   |   |   |   |   |   |--- class: no\n",
      "|   |   |   |   |   |   |   |   |   |   |--- feature_2 >  23.75\n",
      "|   |   |   |   |   |   |   |   |   |   |   |--- class: no\n",
      "|   |   |   |   |   |   |   |--- feature_2 >  24.25\n",
      "|   |   |   |   |   |   |   |   |--- class: no\n",
      "|   |   |   |   |   |   |--- feature_2 >  26.50\n",
      "|   |   |   |   |   |   |   |--- feature_0 <= 2.50\n",
      "|   |   |   |   |   |   |   |   |--- class: no\n",
      "|   |   |   |   |   |   |   |--- feature_0 >  2.50\n",
      "|   |   |   |   |   |   |   |   |--- class: no\n",
      "|   |   |   |   |   |--- feature_2 >  27.50\n",
      "|   |   |   |   |   |   |--- class: no\n",
      "|   |   |   |--- feature_2 >  28.75\n",
      "|   |   |   |   |--- feature_2 <= 32.25\n",
      "|   |   |   |   |   |--- feature_2 <= 31.50\n",
      "|   |   |   |   |   |   |--- feature_2 <= 29.50\n",
      "|   |   |   |   |   |   |   |--- feature_0 <= 2.50\n",
      "|   |   |   |   |   |   |   |   |--- class: no\n",
      "|   |   |   |   |   |   |   |--- feature_0 >  2.50\n",
      "|   |   |   |   |   |   |   |   |--- class: yes\n",
      "|   |   |   |   |   |   |--- feature_2 >  29.50\n",
      "|   |   |   |   |   |   |   |--- feature_2 <= 30.50\n",
      "|   |   |   |   |   |   |   |   |--- feature_0 <= 2.50\n",
      "|   |   |   |   |   |   |   |   |   |--- class: no\n",
      "|   |   |   |   |   |   |   |   |--- feature_0 >  2.50\n",
      "|   |   |   |   |   |   |   |   |   |--- class: no\n",
      "|   |   |   |   |   |   |   |--- feature_2 >  30.50\n",
      "|   |   |   |   |   |   |   |   |--- feature_0 <= 2.50\n",
      "|   |   |   |   |   |   |   |   |   |--- class: no\n",
      "|   |   |   |   |   |   |   |   |--- feature_0 >  2.50\n",
      "|   |   |   |   |   |   |   |   |   |--- class: no\n",
      "|   |   |   |   |   |--- feature_2 >  31.50\n",
      "|   |   |   |   |   |   |--- feature_0 <= 2.50\n",
      "|   |   |   |   |   |   |   |--- class: no\n",
      "|   |   |   |   |   |   |--- feature_0 >  2.50\n",
      "|   |   |   |   |   |   |   |--- class: no\n",
      "|   |   |   |   |--- feature_2 >  32.25\n",
      "|   |   |   |   |   |--- feature_2 <= 36.50\n",
      "|   |   |   |   |   |   |--- feature_0 <= 2.50\n",
      "|   |   |   |   |   |   |   |--- feature_2 <= 35.00\n",
      "|   |   |   |   |   |   |   |   |--- feature_2 <= 33.50\n",
      "|   |   |   |   |   |   |   |   |   |--- class: no\n",
      "|   |   |   |   |   |   |   |   |--- feature_2 >  33.50\n",
      "|   |   |   |   |   |   |   |   |   |--- class: no\n",
      "|   |   |   |   |   |   |   |--- feature_2 >  35.00\n",
      "|   |   |   |   |   |   |   |   |--- class: no\n",
      "|   |   |   |   |   |   |--- feature_0 >  2.50\n",
      "|   |   |   |   |   |   |   |--- class: no\n",
      "|   |   |   |   |   |--- feature_2 >  36.50\n",
      "|   |   |   |   |   |   |--- feature_2 <= 45.50\n",
      "|   |   |   |   |   |   |   |--- feature_2 <= 44.50\n",
      "|   |   |   |   |   |   |   |   |--- feature_2 <= 38.00\n",
      "|   |   |   |   |   |   |   |   |   |--- feature_0 <= 2.50\n",
      "|   |   |   |   |   |   |   |   |   |   |--- class: no\n",
      "|   |   |   |   |   |   |   |   |   |--- feature_0 >  2.50\n",
      "|   |   |   |   |   |   |   |   |   |   |--- class: no\n",
      "|   |   |   |   |   |   |   |   |--- feature_2 >  38.00\n",
      "|   |   |   |   |   |   |   |   |   |--- feature_2 <= 43.50\n",
      "|   |   |   |   |   |   |   |   |   |   |--- feature_0 <= 2.50\n",
      "|   |   |   |   |   |   |   |   |   |   |   |--- truncated branch of depth 2\n",
      "|   |   |   |   |   |   |   |   |   |   |--- feature_0 >  2.50\n",
      "|   |   |   |   |   |   |   |   |   |   |   |--- truncated branch of depth 2\n",
      "|   |   |   |   |   |   |   |   |   |--- feature_2 >  43.50\n",
      "|   |   |   |   |   |   |   |   |   |   |--- feature_0 <= 2.50\n",
      "|   |   |   |   |   |   |   |   |   |   |   |--- class: no\n",
      "|   |   |   |   |   |   |   |   |   |   |--- feature_0 >  2.50\n",
      "|   |   |   |   |   |   |   |   |   |   |   |--- class: no\n",
      "|   |   |   |   |   |   |   |--- feature_2 >  44.50\n",
      "|   |   |   |   |   |   |   |   |--- class: no\n",
      "|   |   |   |   |   |   |--- feature_2 >  45.50\n",
      "|   |   |   |   |   |   |   |--- feature_2 <= 61.50\n",
      "|   |   |   |   |   |   |   |   |--- class: no\n",
      "|   |   |   |   |   |   |   |--- feature_2 >  61.50\n",
      "|   |   |   |   |   |   |   |   |--- feature_2 <= 63.50\n",
      "|   |   |   |   |   |   |   |   |   |--- class: yes\n",
      "|   |   |   |   |   |   |   |   |--- feature_2 >  63.50\n",
      "|   |   |   |   |   |   |   |   |   |--- class: no\n",
      "\n"
     ]
    },
    {
     "data": {
      "text/plain": [
       "[Text(111.08713235294118, 209.07692307692307, 'X[1] <= 0.5\\ngini = 0.476\\nsamples = 664\\nvalue = [404, 260]'),\n",
       " Text(44.47058823529412, 192.35076923076923, 'X[0] <= 2.5\\ngini = 0.389\\nsamples = 231\\nvalue = [61, 170]'),\n",
       " Text(12.07058823529412, 175.62461538461537, 'X[2] <= 3.0\\ngini = 0.066\\nsamples = 117\\nvalue = [4, 113]'),\n",
       " Text(5.082352941176471, 158.89846153846153, 'X[0] <= 1.5\\ngini = 0.5\\nsamples = 2\\nvalue = [1, 1]'),\n",
       " Text(2.5411764705882356, 142.1723076923077, 'gini = 0.0\\nsamples = 1\\nvalue = [1, 0]'),\n",
       " Text(7.623529411764707, 142.1723076923077, 'gini = 0.0\\nsamples = 1\\nvalue = [0, 1]'),\n",
       " Text(19.058823529411768, 158.89846153846153, 'X[2] <= 26.5\\ngini = 0.051\\nsamples = 115\\nvalue = [3, 112]'),\n",
       " Text(12.705882352941178, 142.1723076923077, 'X[2] <= 24.5\\ngini = 0.1\\nsamples = 38\\nvalue = [2, 36]'),\n",
       " Text(10.164705882352942, 125.44615384615385, 'gini = 0.0\\nsamples = 32\\nvalue = [0, 32]'),\n",
       " Text(15.247058823529414, 125.44615384615385, 'X[2] <= 25.5\\ngini = 0.444\\nsamples = 6\\nvalue = [2, 4]'),\n",
       " Text(10.164705882352942, 108.72, 'X[0] <= 1.5\\ngini = 0.375\\nsamples = 4\\nvalue = [1, 3]'),\n",
       " Text(7.623529411764707, 91.99384615384615, 'gini = 0.5\\nsamples = 2\\nvalue = [1, 1]'),\n",
       " Text(12.705882352941178, 91.99384615384615, 'gini = 0.0\\nsamples = 2\\nvalue = [0, 2]'),\n",
       " Text(20.329411764705885, 108.72, 'X[0] <= 1.5\\ngini = 0.5\\nsamples = 2\\nvalue = [1, 1]'),\n",
       " Text(17.788235294117648, 91.99384615384615, 'gini = 0.0\\nsamples = 1\\nvalue = [0, 1]'),\n",
       " Text(22.87058823529412, 91.99384615384615, 'gini = 0.0\\nsamples = 1\\nvalue = [1, 0]'),\n",
       " Text(25.411764705882355, 142.1723076923077, 'X[0] <= 1.5\\ngini = 0.026\\nsamples = 77\\nvalue = [1, 76]'),\n",
       " Text(22.87058823529412, 125.44615384615385, 'gini = 0.0\\nsamples = 42\\nvalue = [0, 42]'),\n",
       " Text(27.952941176470592, 125.44615384615385, 'X[2] <= 37.0\\ngini = 0.056\\nsamples = 35\\nvalue = [1, 34]'),\n",
       " Text(25.411764705882355, 108.72, 'gini = 0.0\\nsamples = 24\\nvalue = [0, 24]'),\n",
       " Text(30.49411764705883, 108.72, 'X[2] <= 39.0\\ngini = 0.165\\nsamples = 11\\nvalue = [1, 10]'),\n",
       " Text(27.952941176470592, 91.99384615384615, 'gini = 0.0\\nsamples = 1\\nvalue = [1, 0]'),\n",
       " Text(33.03529411764706, 91.99384615384615, 'gini = 0.0\\nsamples = 10\\nvalue = [0, 10]'),\n",
       " Text(76.87058823529412, 175.62461538461537, 'X[2] <= 36.5\\ngini = 0.5\\nsamples = 114\\nvalue = [57, 57]'),\n",
       " Text(74.3294117647059, 158.89846153846153, 'X[2] <= 32.5\\ngini = 0.494\\nsamples = 103\\nvalue = [46, 57]'),\n",
       " Text(71.78823529411765, 142.1723076923077, 'X[2] <= 12.0\\ngini = 0.499\\nsamples = 96\\nvalue = [46, 50]'),\n",
       " Text(43.2, 125.44615384615385, 'X[2] <= 5.5\\ngini = 0.444\\nsamples = 21\\nvalue = [14, 7]'),\n",
       " Text(40.65882352941177, 108.72, 'X[2] <= 3.5\\ngini = 0.486\\nsamples = 12\\nvalue = [5, 7]'),\n",
       " Text(38.117647058823536, 91.99384615384615, 'X[2] <= 1.5\\ngini = 0.494\\nsamples = 9\\nvalue = [5, 4]'),\n",
       " Text(35.576470588235296, 75.2676923076923, 'gini = 0.0\\nsamples = 2\\nvalue = [0, 2]'),\n",
       " Text(40.65882352941177, 75.2676923076923, 'X[2] <= 2.5\\ngini = 0.408\\nsamples = 7\\nvalue = [5, 2]'),\n",
       " Text(38.117647058823536, 58.541538461538465, 'gini = 0.48\\nsamples = 5\\nvalue = [3, 2]'),\n",
       " Text(43.2, 58.541538461538465, 'gini = 0.0\\nsamples = 2\\nvalue = [2, 0]'),\n",
       " Text(43.2, 91.99384615384615, 'gini = 0.0\\nsamples = 3\\nvalue = [0, 3]'),\n",
       " Text(45.74117647058824, 108.72, 'gini = 0.0\\nsamples = 9\\nvalue = [9, 0]'),\n",
       " Text(100.3764705882353, 125.44615384615385, 'X[2] <= 29.5\\ngini = 0.489\\nsamples = 75\\nvalue = [32, 43]'),\n",
       " Text(81.31764705882354, 108.72, 'X[2] <= 21.5\\ngini = 0.478\\nsamples = 66\\nvalue = [26, 40]'),\n",
       " Text(63.52941176470589, 91.99384615384615, 'X[2] <= 16.5\\ngini = 0.5\\nsamples = 35\\nvalue = [17, 18]'),\n",
       " Text(53.36470588235295, 75.2676923076923, 'X[2] <= 14.5\\ngini = 0.397\\nsamples = 11\\nvalue = [3, 8]'),\n",
       " Text(48.28235294117648, 58.541538461538465, 'X[2] <= 13.5\\ngini = 0.5\\nsamples = 4\\nvalue = [2, 2]'),\n",
       " Text(45.74117647058824, 41.81538461538463, 'gini = 0.0\\nsamples = 1\\nvalue = [0, 1]'),\n",
       " Text(50.82352941176471, 41.81538461538463, 'gini = 0.444\\nsamples = 3\\nvalue = [2, 1]'),\n",
       " Text(58.44705882352942, 58.541538461538465, 'X[2] <= 15.5\\ngini = 0.245\\nsamples = 7\\nvalue = [1, 6]'),\n",
       " Text(55.905882352941184, 41.81538461538463, 'gini = 0.0\\nsamples = 3\\nvalue = [0, 3]'),\n",
       " Text(60.98823529411766, 41.81538461538463, 'gini = 0.375\\nsamples = 4\\nvalue = [1, 3]'),\n",
       " Text(73.69411764705883, 75.2676923076923, 'X[2] <= 19.5\\ngini = 0.486\\nsamples = 24\\nvalue = [14, 10]'),\n",
       " Text(68.61176470588236, 58.541538461538465, 'X[2] <= 18.5\\ngini = 0.5\\nsamples = 14\\nvalue = [7, 7]'),\n",
       " Text(66.07058823529412, 41.81538461538463, 'X[2] <= 17.5\\ngini = 0.48\\nsamples = 10\\nvalue = [6, 4]'),\n",
       " Text(63.52941176470589, 25.089230769230767, 'gini = 0.5\\nsamples = 2\\nvalue = [1, 1]'),\n",
       " Text(68.61176470588236, 25.089230769230767, 'gini = 0.469\\nsamples = 8\\nvalue = [5, 3]'),\n",
       " Text(71.15294117647059, 41.81538461538463, 'gini = 0.375\\nsamples = 4\\nvalue = [1, 3]'),\n",
       " Text(78.7764705882353, 58.541538461538465, 'X[2] <= 20.5\\ngini = 0.42\\nsamples = 10\\nvalue = [7, 3]'),\n",
       " Text(76.23529411764707, 41.81538461538463, 'gini = 0.444\\nsamples = 3\\nvalue = [2, 1]'),\n",
       " Text(81.31764705882354, 41.81538461538463, 'gini = 0.408\\nsamples = 7\\nvalue = [5, 2]'),\n",
       " Text(99.1058823529412, 91.99384615384615, 'X[2] <= 27.5\\ngini = 0.412\\nsamples = 31\\nvalue = [9, 22]'),\n",
       " Text(94.02352941176471, 75.2676923076923, 'X[2] <= 26.5\\ngini = 0.365\\nsamples = 25\\nvalue = [6, 19]'),\n",
       " Text(91.48235294117649, 58.541538461538465, 'X[2] <= 24.5\\ngini = 0.397\\nsamples = 22\\nvalue = [6, 16]'),\n",
       " Text(86.4, 41.81538461538463, 'X[2] <= 23.5\\ngini = 0.36\\nsamples = 17\\nvalue = [4, 13]'),\n",
       " Text(83.85882352941178, 25.089230769230767, 'X[2] <= 22.5\\ngini = 0.375\\nsamples = 12\\nvalue = [3, 9]'),\n",
       " Text(81.31764705882354, 8.363076923076932, 'gini = 0.346\\nsamples = 9\\nvalue = [2, 7]'),\n",
       " Text(86.4, 8.363076923076932, 'gini = 0.444\\nsamples = 3\\nvalue = [1, 2]'),\n",
       " Text(88.94117647058825, 25.089230769230767, 'gini = 0.32\\nsamples = 5\\nvalue = [1, 4]'),\n",
       " Text(96.56470588235295, 41.81538461538463, 'X[2] <= 25.5\\ngini = 0.48\\nsamples = 5\\nvalue = [2, 3]'),\n",
       " Text(94.02352941176471, 25.089230769230767, 'gini = 0.0\\nsamples = 1\\nvalue = [1, 0]'),\n",
       " Text(99.1058823529412, 25.089230769230767, 'gini = 0.375\\nsamples = 4\\nvalue = [1, 3]'),\n",
       " Text(96.56470588235295, 58.541538461538465, 'gini = 0.0\\nsamples = 3\\nvalue = [0, 3]'),\n",
       " Text(104.18823529411766, 75.2676923076923, 'X[2] <= 28.5\\ngini = 0.5\\nsamples = 6\\nvalue = [3, 3]'),\n",
       " Text(101.64705882352942, 58.541538461538465, 'gini = 0.5\\nsamples = 4\\nvalue = [2, 2]'),\n",
       " Text(106.7294117647059, 58.541538461538465, 'gini = 0.5\\nsamples = 2\\nvalue = [1, 1]'),\n",
       " Text(119.43529411764708, 108.72, 'X[2] <= 31.5\\ngini = 0.444\\nsamples = 9\\nvalue = [6, 3]'),\n",
       " Text(116.89411764705883, 91.99384615384615, 'X[2] <= 30.75\\ngini = 0.469\\nsamples = 8\\nvalue = [5, 3]'),\n",
       " Text(114.35294117647061, 75.2676923076923, 'X[2] <= 30.25\\ngini = 0.375\\nsamples = 4\\nvalue = [3, 1]'),\n",
       " Text(111.81176470588237, 58.541538461538465, 'gini = 0.444\\nsamples = 3\\nvalue = [2, 1]'),\n",
       " Text(116.89411764705883, 58.541538461538465, 'gini = 0.0\\nsamples = 1\\nvalue = [1, 0]'),\n",
       " Text(119.43529411764708, 75.2676923076923, 'gini = 0.5\\nsamples = 4\\nvalue = [2, 2]'),\n",
       " Text(121.97647058823532, 91.99384615384615, 'gini = 0.0\\nsamples = 1\\nvalue = [1, 0]'),\n",
       " Text(76.87058823529412, 142.1723076923077, 'gini = 0.0\\nsamples = 7\\nvalue = [0, 7]'),\n",
       " Text(79.41176470588236, 158.89846153846153, 'gini = 0.0\\nsamples = 11\\nvalue = [11, 0]'),\n",
       " Text(177.70367647058825, 192.35076923076923, 'X[2] <= 13.0\\ngini = 0.329\\nsamples = 433\\nvalue = [343, 90]'),\n",
       " Text(127.05882352941178, 175.62461538461537, 'X[0] <= 2.5\\ngini = 0.482\\nsamples = 32\\nvalue = [13, 19]'),\n",
       " Text(124.51764705882354, 158.89846153846153, 'gini = 0.0\\nsamples = 9\\nvalue = [0, 9]'),\n",
       " Text(129.60000000000002, 158.89846153846153, 'X[2] <= 0.71\\ngini = 0.491\\nsamples = 23\\nvalue = [13, 10]'),\n",
       " Text(127.05882352941178, 142.1723076923077, 'gini = 0.0\\nsamples = 1\\nvalue = [0, 1]'),\n",
       " Text(132.14117647058825, 142.1723076923077, 'X[2] <= 2.5\\ngini = 0.483\\nsamples = 22\\nvalue = [13, 9]'),\n",
       " Text(127.05882352941178, 125.44615384615385, 'X[2] <= 1.5\\ngini = 0.278\\nsamples = 6\\nvalue = [5, 1]'),\n",
       " Text(124.51764705882354, 108.72, 'gini = 0.444\\nsamples = 3\\nvalue = [2, 1]'),\n",
       " Text(129.60000000000002, 108.72, 'gini = 0.0\\nsamples = 3\\nvalue = [3, 0]'),\n",
       " Text(137.22352941176473, 125.44615384615385, 'X[2] <= 3.5\\ngini = 0.5\\nsamples = 16\\nvalue = [8, 8]'),\n",
       " Text(134.68235294117648, 108.72, 'gini = 0.0\\nsamples = 1\\nvalue = [0, 1]'),\n",
       " Text(139.76470588235296, 108.72, 'X[2] <= 11.5\\ngini = 0.498\\nsamples = 15\\nvalue = [8, 7]'),\n",
       " Text(137.22352941176473, 91.99384615384615, 'X[2] <= 10.0\\ngini = 0.49\\nsamples = 14\\nvalue = [8, 6]'),\n",
       " Text(134.68235294117648, 75.2676923076923, 'X[2] <= 6.5\\ngini = 0.5\\nsamples = 12\\nvalue = [6, 6]'),\n",
       " Text(129.60000000000002, 58.541538461538465, 'X[2] <= 5.0\\ngini = 0.48\\nsamples = 5\\nvalue = [2, 3]'),\n",
       " Text(127.05882352941178, 41.81538461538463, 'gini = 0.5\\nsamples = 4\\nvalue = [2, 2]'),\n",
       " Text(132.14117647058825, 41.81538461538463, 'gini = 0.0\\nsamples = 1\\nvalue = [0, 1]'),\n",
       " Text(139.76470588235296, 58.541538461538465, 'X[2] <= 8.5\\ngini = 0.49\\nsamples = 7\\nvalue = [4, 3]'),\n",
       " Text(137.22352941176473, 41.81538461538463, 'X[2] <= 7.5\\ngini = 0.444\\nsamples = 3\\nvalue = [2, 1]'),\n",
       " Text(134.68235294117648, 25.089230769230767, 'gini = 0.5\\nsamples = 2\\nvalue = [1, 1]'),\n",
       " Text(139.76470588235296, 25.089230769230767, 'gini = 0.0\\nsamples = 1\\nvalue = [1, 0]'),\n",
       " Text(142.30588235294118, 41.81538461538463, 'gini = 0.5\\nsamples = 4\\nvalue = [2, 2]'),\n",
       " Text(139.76470588235296, 75.2676923076923, 'gini = 0.0\\nsamples = 2\\nvalue = [2, 0]'),\n",
       " Text(142.30588235294118, 91.99384615384615, 'gini = 0.0\\nsamples = 1\\nvalue = [0, 1]'),\n",
       " Text(228.34852941176473, 175.62461538461537, 'X[0] <= 1.5\\ngini = 0.291\\nsamples = 401\\nvalue = [330, 71]'),\n",
       " Text(187.57058823529414, 158.89846153846153, 'X[2] <= 53.0\\ngini = 0.473\\nsamples = 94\\nvalue = [58, 36]'),\n",
       " Text(173.11764705882354, 142.1723076923077, 'X[2] <= 47.5\\ngini = 0.498\\nsamples = 70\\nvalue = [37, 33]'),\n",
       " Text(162.00000000000003, 125.44615384615385, 'X[2] <= 37.5\\ngini = 0.488\\nsamples = 59\\nvalue = [34, 25]'),\n",
       " Text(152.47058823529414, 108.72, 'X[2] <= 22.5\\ngini = 0.493\\nsamples = 34\\nvalue = [15, 19]'),\n",
       " Text(147.38823529411766, 91.99384615384615, 'X[2] <= 18.0\\ngini = 0.375\\nsamples = 4\\nvalue = [3, 1]'),\n",
       " Text(144.84705882352944, 75.2676923076923, 'gini = 0.0\\nsamples = 1\\nvalue = [0, 1]'),\n",
       " Text(149.9294117647059, 75.2676923076923, 'gini = 0.0\\nsamples = 3\\nvalue = [3, 0]'),\n",
       " Text(157.5529411764706, 91.99384615384615, 'X[2] <= 27.5\\ngini = 0.48\\nsamples = 30\\nvalue = [12, 18]'),\n",
       " Text(155.01176470588237, 75.2676923076923, 'gini = 0.0\\nsamples = 6\\nvalue = [0, 6]'),\n",
       " Text(160.09411764705885, 75.2676923076923, 'X[2] <= 30.5\\ngini = 0.5\\nsamples = 24\\nvalue = [12, 12]'),\n",
       " Text(153.74117647058824, 58.541538461538465, 'X[2] <= 29.5\\ngini = 0.346\\nsamples = 9\\nvalue = [7, 2]'),\n",
       " Text(151.20000000000002, 41.81538461538463, 'X[2] <= 28.5\\ngini = 0.444\\nsamples = 6\\nvalue = [4, 2]'),\n",
       " Text(148.6588235294118, 25.089230769230767, 'gini = 0.375\\nsamples = 4\\nvalue = [3, 1]'),\n",
       " Text(153.74117647058824, 25.089230769230767, 'gini = 0.5\\nsamples = 2\\nvalue = [1, 1]'),\n",
       " Text(156.2823529411765, 41.81538461538463, 'gini = 0.0\\nsamples = 3\\nvalue = [3, 0]'),\n",
       " Text(166.44705882352943, 58.541538461538465, 'X[2] <= 35.5\\ngini = 0.444\\nsamples = 15\\nvalue = [5, 10]'),\n",
       " Text(161.36470588235295, 41.81538461538463, 'X[2] <= 31.5\\ngini = 0.278\\nsamples = 6\\nvalue = [1, 5]'),\n",
       " Text(158.82352941176472, 25.089230769230767, 'gini = 0.5\\nsamples = 2\\nvalue = [1, 1]'),\n",
       " Text(163.9058823529412, 25.089230769230767, 'gini = 0.0\\nsamples = 4\\nvalue = [0, 4]'),\n",
       " Text(171.5294117647059, 41.81538461538463, 'X[2] <= 36.5\\ngini = 0.494\\nsamples = 9\\nvalue = [4, 5]'),\n",
       " Text(168.98823529411766, 25.089230769230767, 'gini = 0.48\\nsamples = 5\\nvalue = [2, 3]'),\n",
       " Text(174.07058823529414, 25.089230769230767, 'gini = 0.5\\nsamples = 4\\nvalue = [2, 2]'),\n",
       " Text(171.5294117647059, 108.72, 'X[2] <= 41.5\\ngini = 0.365\\nsamples = 25\\nvalue = [19, 6]'),\n",
       " Text(168.98823529411766, 91.99384615384615, 'gini = 0.0\\nsamples = 7\\nvalue = [7, 0]'),\n",
       " Text(174.07058823529414, 91.99384615384615, 'X[2] <= 42.5\\ngini = 0.444\\nsamples = 18\\nvalue = [12, 6]'),\n",
       " Text(171.5294117647059, 75.2676923076923, 'gini = 0.444\\nsamples = 3\\nvalue = [1, 2]'),\n",
       " Text(176.61176470588236, 75.2676923076923, 'X[2] <= 44.5\\ngini = 0.391\\nsamples = 15\\nvalue = [11, 4]'),\n",
       " Text(174.07058823529414, 58.541538461538465, 'gini = 0.0\\nsamples = 2\\nvalue = [2, 0]'),\n",
       " Text(179.15294117647062, 58.541538461538465, 'X[2] <= 45.25\\ngini = 0.426\\nsamples = 13\\nvalue = [9, 4]'),\n",
       " Text(176.61176470588236, 41.81538461538463, 'gini = 0.48\\nsamples = 5\\nvalue = [3, 2]'),\n",
       " Text(181.69411764705885, 41.81538461538463, 'X[2] <= 45.75\\ngini = 0.375\\nsamples = 8\\nvalue = [6, 2]'),\n",
       " Text(179.15294117647062, 25.089230769230767, 'gini = 0.0\\nsamples = 1\\nvalue = [1, 0]'),\n",
       " Text(184.23529411764707, 25.089230769230767, 'X[2] <= 46.5\\ngini = 0.408\\nsamples = 7\\nvalue = [5, 2]'),\n",
       " Text(181.69411764705885, 8.363076923076932, 'gini = 0.444\\nsamples = 3\\nvalue = [2, 1]'),\n",
       " Text(186.77647058823533, 8.363076923076932, 'gini = 0.375\\nsamples = 4\\nvalue = [3, 1]'),\n",
       " Text(184.23529411764707, 125.44615384615385, 'X[2] <= 48.5\\ngini = 0.397\\nsamples = 11\\nvalue = [3, 8]'),\n",
       " Text(181.69411764705885, 108.72, 'gini = 0.0\\nsamples = 3\\nvalue = [0, 3]'),\n",
       " Text(186.77647058823533, 108.72, 'X[2] <= 50.5\\ngini = 0.469\\nsamples = 8\\nvalue = [3, 5]'),\n",
       " Text(184.23529411764707, 91.99384615384615, 'X[2] <= 49.5\\ngini = 0.5\\nsamples = 6\\nvalue = [3, 3]'),\n",
       " Text(181.69411764705885, 75.2676923076923, 'gini = 0.5\\nsamples = 4\\nvalue = [2, 2]'),\n",
       " Text(186.77647058823533, 75.2676923076923, 'gini = 0.5\\nsamples = 2\\nvalue = [1, 1]'),\n",
       " Text(189.31764705882355, 91.99384615384615, 'gini = 0.0\\nsamples = 2\\nvalue = [0, 2]'),\n",
       " Text(202.02352941176474, 142.1723076923077, 'X[2] <= 75.5\\ngini = 0.219\\nsamples = 24\\nvalue = [21, 3]'),\n",
       " Text(199.4823529411765, 125.44615384615385, 'X[2] <= 60.5\\ngini = 0.159\\nsamples = 23\\nvalue = [21, 2]'),\n",
       " Text(196.94117647058826, 108.72, 'X[2] <= 55.5\\ngini = 0.278\\nsamples = 12\\nvalue = [10, 2]'),\n",
       " Text(194.40000000000003, 91.99384615384615, 'gini = 0.0\\nsamples = 3\\nvalue = [3, 0]'),\n",
       " Text(199.4823529411765, 91.99384615384615, 'X[2] <= 56.5\\ngini = 0.346\\nsamples = 9\\nvalue = [7, 2]'),\n",
       " Text(196.94117647058826, 75.2676923076923, 'gini = 0.444\\nsamples = 3\\nvalue = [2, 1]'),\n",
       " Text(202.02352941176474, 75.2676923076923, 'X[2] <= 59.0\\ngini = 0.278\\nsamples = 6\\nvalue = [5, 1]'),\n",
       " Text(199.4823529411765, 58.541538461538465, 'gini = 0.0\\nsamples = 3\\nvalue = [3, 0]'),\n",
       " Text(204.56470588235297, 58.541538461538465, 'gini = 0.444\\nsamples = 3\\nvalue = [2, 1]'),\n",
       " Text(202.02352941176474, 108.72, 'gini = 0.0\\nsamples = 11\\nvalue = [11, 0]'),\n",
       " Text(204.56470588235297, 125.44615384615385, 'gini = 0.0\\nsamples = 1\\nvalue = [0, 1]'),\n",
       " Text(269.12647058823535, 158.89846153846153, 'X[2] <= 28.75\\ngini = 0.202\\nsamples = 307\\nvalue = [272, 35]'),\n",
       " Text(238.87058823529415, 142.1723076923077, 'X[2] <= 20.5\\ngini = 0.162\\nsamples = 169\\nvalue = [154, 15]'),\n",
       " Text(218.54117647058825, 125.44615384615385, 'X[2] <= 17.5\\ngini = 0.239\\nsamples = 65\\nvalue = [56, 9]'),\n",
       " Text(212.18823529411767, 108.72, 'X[2] <= 16.5\\ngini = 0.1\\nsamples = 19\\nvalue = [18, 1]'),\n",
       " Text(209.64705882352945, 91.99384615384615, 'X[2] <= 15.5\\ngini = 0.165\\nsamples = 11\\nvalue = [10, 1]'),\n",
       " Text(207.1058823529412, 75.2676923076923, 'gini = 0.0\\nsamples = 3\\nvalue = [3, 0]'),\n",
       " Text(212.18823529411767, 75.2676923076923, 'X[0] <= 2.5\\ngini = 0.219\\nsamples = 8\\nvalue = [7, 1]'),\n",
       " Text(209.64705882352945, 58.541538461538465, 'gini = 0.0\\nsamples = 1\\nvalue = [1, 0]'),\n",
       " Text(214.7294117647059, 58.541538461538465, 'gini = 0.245\\nsamples = 7\\nvalue = [6, 1]'),\n",
       " Text(214.7294117647059, 91.99384615384615, 'gini = 0.0\\nsamples = 8\\nvalue = [8, 0]'),\n",
       " Text(224.89411764705886, 108.72, 'X[2] <= 18.5\\ngini = 0.287\\nsamples = 46\\nvalue = [38, 8]'),\n",
       " Text(219.81176470588238, 91.99384615384615, 'X[0] <= 2.5\\ngini = 0.231\\nsamples = 15\\nvalue = [13, 2]'),\n",
       " Text(217.27058823529416, 75.2676923076923, 'gini = 0.0\\nsamples = 4\\nvalue = [4, 0]'),\n",
       " Text(222.3529411764706, 75.2676923076923, 'gini = 0.298\\nsamples = 11\\nvalue = [9, 2]'),\n",
       " Text(229.97647058823532, 91.99384615384615, 'X[0] <= 2.5\\ngini = 0.312\\nsamples = 31\\nvalue = [25, 6]'),\n",
       " Text(227.4352941176471, 75.2676923076923, 'gini = 0.444\\nsamples = 3\\nvalue = [2, 1]'),\n",
       " Text(232.51764705882357, 75.2676923076923, 'X[2] <= 19.5\\ngini = 0.293\\nsamples = 28\\nvalue = [23, 5]'),\n",
       " Text(229.97647058823532, 58.541538461538465, 'gini = 0.26\\nsamples = 13\\nvalue = [11, 2]'),\n",
       " Text(235.0588235294118, 58.541538461538465, 'gini = 0.32\\nsamples = 15\\nvalue = [12, 3]'),\n",
       " Text(259.20000000000005, 125.44615384615385, 'X[2] <= 27.5\\ngini = 0.109\\nsamples = 104\\nvalue = [98, 6]'),\n",
       " Text(256.6588235294118, 108.72, 'X[2] <= 26.5\\ngini = 0.123\\nsamples = 91\\nvalue = [85, 6]'),\n",
       " Text(251.5764705882353, 91.99384615384615, 'X[2] <= 24.25\\ngini = 0.092\\nsamples = 83\\nvalue = [79, 4]'),\n",
       " Text(249.03529411764708, 75.2676923076923, 'X[2] <= 22.5\\ngini = 0.126\\nsamples = 59\\nvalue = [55, 4]'),\n",
       " Text(240.14117647058828, 58.541538461538465, 'X[0] <= 2.5\\ngini = 0.114\\nsamples = 33\\nvalue = [31, 2]'),\n",
       " Text(237.60000000000002, 41.81538461538463, 'gini = 0.0\\nsamples = 5\\nvalue = [5, 0]'),\n",
       " Text(242.6823529411765, 41.81538461538463, 'X[2] <= 21.5\\ngini = 0.133\\nsamples = 28\\nvalue = [26, 2]'),\n",
       " Text(240.14117647058828, 25.089230769230767, 'gini = 0.18\\nsamples = 10\\nvalue = [9, 1]'),\n",
       " Text(245.22352941176473, 25.089230769230767, 'gini = 0.105\\nsamples = 18\\nvalue = [17, 1]'),\n",
       " Text(257.9294117647059, 58.541538461538465, 'X[0] <= 2.5\\ngini = 0.142\\nsamples = 26\\nvalue = [24, 2]'),\n",
       " Text(252.84705882352944, 41.81538461538463, 'X[2] <= 23.5\\ngini = 0.245\\nsamples = 7\\nvalue = [6, 1]'),\n",
       " Text(250.3058823529412, 25.089230769230767, 'gini = 0.375\\nsamples = 4\\nvalue = [3, 1]'),\n",
       " Text(255.38823529411766, 25.089230769230767, 'gini = 0.0\\nsamples = 3\\nvalue = [3, 0]'),\n",
       " Text(263.0117647058824, 41.81538461538463, 'X[2] <= 23.75\\ngini = 0.1\\nsamples = 19\\nvalue = [18, 1]'),\n",
       " Text(260.47058823529414, 25.089230769230767, 'gini = 0.0\\nsamples = 9\\nvalue = [9, 0]'),\n",
       " Text(265.5529411764706, 25.089230769230767, 'gini = 0.18\\nsamples = 10\\nvalue = [9, 1]'),\n",
       " Text(254.11764705882356, 75.2676923076923, 'gini = 0.0\\nsamples = 24\\nvalue = [24, 0]'),\n",
       " Text(261.74117647058824, 91.99384615384615, 'X[0] <= 2.5\\ngini = 0.375\\nsamples = 8\\nvalue = [6, 2]'),\n",
       " Text(259.20000000000005, 75.2676923076923, 'gini = 0.444\\nsamples = 3\\nvalue = [2, 1]'),\n",
       " Text(264.2823529411765, 75.2676923076923, 'gini = 0.32\\nsamples = 5\\nvalue = [4, 1]'),\n",
       " Text(261.74117647058824, 108.72, 'gini = 0.0\\nsamples = 13\\nvalue = [13, 0]'),\n",
       " Text(299.3823529411765, 142.1723076923077, 'X[2] <= 32.25\\ngini = 0.248\\nsamples = 138\\nvalue = [118, 20]'),\n",
       " Text(285.24705882352947, 125.44615384615385, 'X[2] <= 31.5\\ngini = 0.422\\nsamples = 43\\nvalue = [30, 13]'),\n",
       " Text(278.2588235294118, 108.72, 'X[2] <= 29.5\\ngini = 0.358\\nsamples = 30\\nvalue = [23, 7]'),\n",
       " Text(271.9058823529412, 91.99384615384615, 'X[0] <= 2.5\\ngini = 0.496\\nsamples = 11\\nvalue = [6, 5]'),\n",
       " Text(269.36470588235295, 75.2676923076923, 'gini = 0.0\\nsamples = 2\\nvalue = [2, 0]'),\n",
       " Text(274.44705882352946, 75.2676923076923, 'gini = 0.494\\nsamples = 9\\nvalue = [4, 5]'),\n",
       " Text(284.61176470588236, 91.99384615384615, 'X[2] <= 30.5\\ngini = 0.188\\nsamples = 19\\nvalue = [17, 2]'),\n",
       " Text(279.5294117647059, 75.2676923076923, 'X[0] <= 2.5\\ngini = 0.117\\nsamples = 16\\nvalue = [15, 1]'),\n",
       " Text(276.98823529411766, 58.541538461538465, 'gini = 0.0\\nsamples = 4\\nvalue = [4, 0]'),\n",
       " Text(282.07058823529417, 58.541538461538465, 'gini = 0.153\\nsamples = 12\\nvalue = [11, 1]'),\n",
       " Text(289.6941176470589, 75.2676923076923, 'X[0] <= 2.5\\ngini = 0.444\\nsamples = 3\\nvalue = [2, 1]'),\n",
       " Text(287.1529411764706, 58.541538461538465, 'gini = 0.5\\nsamples = 2\\nvalue = [1, 1]'),\n",
       " Text(292.2352941176471, 58.541538461538465, 'gini = 0.0\\nsamples = 1\\nvalue = [1, 0]'),\n",
       " Text(292.2352941176471, 108.72, 'X[0] <= 2.5\\ngini = 0.497\\nsamples = 13\\nvalue = [7, 6]'),\n",
       " Text(289.6941176470589, 91.99384615384615, 'gini = 0.444\\nsamples = 3\\nvalue = [2, 1]'),\n",
       " Text(294.7764705882353, 91.99384615384615, 'gini = 0.5\\nsamples = 10\\nvalue = [5, 5]'),\n",
       " Text(313.51764705882357, 125.44615384615385, 'X[2] <= 36.5\\ngini = 0.137\\nsamples = 95\\nvalue = [88, 7]'),\n",
       " Text(304.9411764705883, 108.72, 'X[0] <= 2.5\\ngini = 0.062\\nsamples = 31\\nvalue = [30, 1]'),\n",
       " Text(302.40000000000003, 91.99384615384615, 'X[2] <= 35.0\\ngini = 0.18\\nsamples = 10\\nvalue = [9, 1]'),\n",
       " Text(299.8588235294118, 75.2676923076923, 'X[2] <= 33.5\\ngini = 0.278\\nsamples = 6\\nvalue = [5, 1]'),\n",
       " Text(297.3176470588236, 58.541538461538465, 'gini = 0.0\\nsamples = 2\\nvalue = [2, 0]'),\n",
       " Text(302.40000000000003, 58.541538461538465, 'gini = 0.375\\nsamples = 4\\nvalue = [3, 1]'),\n",
       " Text(304.9411764705883, 75.2676923076923, 'gini = 0.0\\nsamples = 4\\nvalue = [4, 0]'),\n",
       " Text(307.4823529411765, 91.99384615384615, 'gini = 0.0\\nsamples = 21\\nvalue = [21, 0]'),\n",
       " Text(322.09411764705885, 108.72, 'X[2] <= 45.5\\ngini = 0.17\\nsamples = 64\\nvalue = [58, 6]'),\n",
       " Text(317.0117647058824, 91.99384615384615, 'X[2] <= 44.5\\ngini = 0.245\\nsamples = 35\\nvalue = [30, 5]'),\n",
       " Text(314.47058823529414, 75.2676923076923, 'X[2] <= 38.0\\ngini = 0.213\\nsamples = 33\\nvalue = [29, 4]'),\n",
       " Text(307.4823529411765, 58.541538461538465, 'X[0] <= 2.5\\ngini = 0.375\\nsamples = 4\\nvalue = [3, 1]'),\n",
       " Text(304.9411764705883, 41.81538461538463, 'gini = 0.0\\nsamples = 2\\nvalue = [2, 0]'),\n",
       " Text(310.02352941176474, 41.81538461538463, 'gini = 0.5\\nsamples = 2\\nvalue = [1, 1]'),\n",
       " Text(321.4588235294118, 58.541538461538465, 'X[2] <= 43.5\\ngini = 0.185\\nsamples = 29\\nvalue = [26, 3]'),\n",
       " Text(315.1058823529412, 41.81538461538463, 'X[0] <= 2.5\\ngini = 0.147\\nsamples = 25\\nvalue = [23, 2]'),\n",
       " Text(310.02352941176474, 25.089230769230767, 'X[2] <= 41.5\\ngini = 0.278\\nsamples = 6\\nvalue = [5, 1]'),\n",
       " Text(307.4823529411765, 8.363076923076932, 'gini = 0.0\\nsamples = 3\\nvalue = [3, 0]'),\n",
       " Text(312.564705882353, 8.363076923076932, 'gini = 0.444\\nsamples = 3\\nvalue = [2, 1]'),\n",
       " Text(320.1882352941177, 25.089230769230767, 'X[2] <= 39.5\\ngini = 0.1\\nsamples = 19\\nvalue = [18, 1]'),\n",
       " Text(317.64705882352945, 8.363076923076932, 'gini = 0.32\\nsamples = 5\\nvalue = [4, 1]'),\n",
       " Text(322.7294117647059, 8.363076923076932, 'gini = 0.0\\nsamples = 14\\nvalue = [14, 0]'),\n",
       " Text(327.8117647058824, 41.81538461538463, 'X[0] <= 2.5\\ngini = 0.375\\nsamples = 4\\nvalue = [3, 1]'),\n",
       " Text(325.27058823529416, 25.089230769230767, 'gini = 0.0\\nsamples = 1\\nvalue = [1, 0]'),\n",
       " Text(330.3529411764706, 25.089230769230767, 'gini = 0.444\\nsamples = 3\\nvalue = [2, 1]'),\n",
       " Text(319.55294117647065, 75.2676923076923, 'gini = 0.5\\nsamples = 2\\nvalue = [1, 1]'),\n",
       " Text(327.1764705882353, 91.99384615384615, 'X[2] <= 61.5\\ngini = 0.067\\nsamples = 29\\nvalue = [28, 1]'),\n",
       " Text(324.6352941176471, 75.2676923076923, 'gini = 0.0\\nsamples = 22\\nvalue = [22, 0]'),\n",
       " Text(329.71764705882356, 75.2676923076923, 'X[2] <= 63.5\\ngini = 0.245\\nsamples = 7\\nvalue = [6, 1]'),\n",
       " Text(327.1764705882353, 58.541538461538465, 'gini = 0.0\\nsamples = 1\\nvalue = [0, 1]'),\n",
       " Text(332.2588235294118, 58.541538461538465, 'gini = 0.0\\nsamples = 6\\nvalue = [6, 0]')]"
      ]
     },
     "execution_count": 55,
     "metadata": {},
     "output_type": "execute_result"
    },
    {
     "data": {
      "image/png": "[encoded data removed]",
      "text/plain": [
       "<Figure size 432x288 with 1 Axes>"
      ]
     },
     "metadata": {
      "needs_background": "light"
     },
     "output_type": "display_data"
    }
   ],
   "source": [
    "# Create a text representation of the tree\n",
    "\n",
    "from matplotlib import pyplot as plt\n",
    "from sklearn import tree\n",
    "\n",
    "text_representation = tree.export_text(clf)\n",
    "print(text_representation)\n",
    "\n",
    "tree.plot_tree(clf)"
   ]
  },
  {
   "cell_type": "code",
   "execution_count": 56,
   "metadata": {},
   "outputs": [],
   "source": [
    "# Use graphviz to make a nicer looking tree\n",
    "# https://graphviz.org/\n",
    "# Requires a bit of setup - on Windows, have to install both Python library and Windows program; Windows program must be on system path\n",
    "\n",
    "import graphviz \n",
    "dot_data = tree.export_graphviz(clf, feature_names=X.columns, class_names=titanic_data['Survived'], out_file=None) "
   ]
  },
  {
   "cell_type": "code",
   "execution_count": 57,
   "metadata": {},
   "outputs": [
    {
     "data": {
      "text/plain": [
       "'titanic.pdf'"
      ]
     },
     "execution_count": 57,
     "metadata": {},
     "output_type": "execute_result"
    }
   ],
   "source": [
    "# Render the tree and save as a PDF\n",
    "# This link will help interpret: https://towardsdatascience.com/understanding-decision-trees-for-classification-python-9663d683c952\n",
    "\n",
    "graph = graphviz.Source(dot_data) \n",
    "\n",
    "graph.render(\"titanic\")"
   ]
  },
  {
   "cell_type": "code",
   "execution_count": null,
   "metadata": {},
   "outputs": [],
   "source": []
  }
 ],
 "metadata": {
  "kernelspec": {
   "display_name": "Python 3",
   "language": "python",
   "name": "python3"
  },
  "language_info": {
   "codemirror_mode": {
    "name": "ipython",
    "version": 3
   },
   "file_extension": ".py",
   "mimetype": "text/x-python",
   "name": "python",
   "nbconvert_exporter": "python",
   "pygments_lexer": "ipython3",
   "version": "3.7.4"
  }
 },
 "nbformat": 4,
 "nbformat_minor": 2
}
